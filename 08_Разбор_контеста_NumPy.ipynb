{
  "nbformat": 4,
  "nbformat_minor": 0,
  "metadata": {
    "colab": {
      "provenance": []
    },
    "kernelspec": {
      "name": "python3",
      "display_name": "Python 3"
    },
    "language_info": {
      "name": "python"
    }
  },
  "cells": [
    {
      "cell_type": "markdown",
      "source": [
        "# A. Найди ближайщего"
      ],
      "metadata": {
        "id": "27gF9PITRh8F"
      }
    },
    {
      "cell_type": "markdown",
      "source": [
        "Давайте вспомним небольшую разницу между типами данных `list()` и `numpy.array()`."
      ],
      "metadata": {
        "id": "qU4i-_FyqnJg"
      }
    },
    {
      "cell_type": "code",
      "source": [
        "[7, -1, 8] #list\n",
        "[10, 2, 30] #list\n",
        "\n",
        "[7, -1, 8, 10, 2, 30] # result list+list\n",
        "\n",
        "[7, -1, 8] # numpy array\n",
        "[10, 2, 30] # numpy array\n",
        "\n",
        "[17, 1, 38] # result numpy array + numpy array"
      ],
      "metadata": {
        "id": "nfs5UcUEq1r4"
      },
      "execution_count": null,
      "outputs": []
    },
    {
      "cell_type": "code",
      "execution_count": null,
      "metadata": {
        "id": "xM5XpUDHRhDF",
        "colab": {
          "base_uri": "https://localhost:8080/"
        },
        "outputId": "fb51987d-3699-437b-bfa8-5e812f8413f2"
      },
      "outputs": [
        {
          "output_type": "stream",
          "name": "stdout",
          "text": [
            "27 14 22 12 -22 -35 -40 -33 35 -43 -1\n",
            "-1\n"
          ]
        }
      ],
      "source": [
        "import numpy as np\n",
        "\n",
        "def get_nearest(a, a0): # a0 = 0\n",
        "    idx = np.abs(a - a0).argmin()\n",
        "    return a[idx]\n",
        "\n",
        "B = np.array(list(map(int, input().split())))\n",
        "\n",
        "print(get_nearest(B,0))\n",
        "# 27 14 22 12 -22 -35 -40 -33 35 -43 -1"
      ]
    },
    {
      "cell_type": "markdown",
      "source": [
        "**Разберем решение по шагам**"
      ],
      "metadata": {
        "id": "k7gNMRr9qvd1"
      }
    },
    {
      "cell_type": "code",
      "source": [
        "B = np.array(list(map(int, input().split())))\n",
        "\n",
        "# '1 2 4 1 -1' - input() - считываем с входного потока данные\n",
        "# ['1', '2','2','4','1','-1'] - input().split() - разделяем ввод по пробелу\n",
        "# [1, 2, 2, 4, 1, -1] - list(map(int, input().split())) - преобразуем элементы в числа\n",
        "\n",
        "B"
      ],
      "metadata": {
        "colab": {
          "base_uri": "https://localhost:8080/"
        },
        "id": "B84wzC9XF6X6",
        "outputId": "d34bf432-c404-4261-cfc1-79bcd563018b"
      },
      "execution_count": null,
      "outputs": [
        {
          "name": "stdout",
          "output_type": "stream",
          "text": [
            "27 14 22 12 -22 -35 -40 -33 35 -43 -1\n"
          ]
        },
        {
          "output_type": "execute_result",
          "data": {
            "text/plain": [
              "array([ 27,  14,  22,  12, -22, -35, -40, -33,  35, -43,  -1])"
            ]
          },
          "metadata": {},
          "execution_count": 38
        }
      ]
    },
    {
      "cell_type": "markdown",
      "source": [
        "`np.abs(B - 0).argmin()`\n",
        "\n",
        "По сути мы вычитаем из каждого элемента массива a0 (в нашем случае a0 = 0).\n",
        "\n",
        "**Почему так?** Потому что ближайщий - это тот, до которого расстояние минимально. когда у нас есть только ось $Х$ (т.е. одномерный массив), то расстояние от точки до точки находиться по формуле: $|x1-x2|$"
      ],
      "metadata": {
        "id": "IkEQlYOArX4Q"
      }
    },
    {
      "cell_type": "code",
      "source": [
        "idx = np.abs(B - 0).argmin()\n",
        "# 27 14 22 12 -22 -35 -40 -33 35 -43 -1\n",
        "# 0  0  0  0  0   0    0   0  0   0  0"
      ],
      "metadata": {
        "colab": {
          "base_uri": "https://localhost:8080/"
        },
        "id": "xjORE32XGFFH",
        "outputId": "e2760727-2b13-465c-89ea-ff33bf434b37"
      },
      "execution_count": null,
      "outputs": [
        {
          "output_type": "execute_result",
          "data": {
            "text/plain": [
              "10"
            ]
          },
          "metadata": {},
          "execution_count": 44
        }
      ]
    },
    {
      "cell_type": "markdown",
      "source": [
        "# B. Шахматная доска"
      ],
      "metadata": {
        "id": "kHRYaeMBRkzV"
      }
    },
    {
      "cell_type": "markdown",
      "source": [
        "## 1 вариант решения"
      ],
      "metadata": {
        "id": "0NRQTrNcBS4l"
      }
    },
    {
      "cell_type": "code",
      "source": [
        "import numpy as np\n",
        "\n",
        "def checkerboard(n):\n",
        "    a = np.resize([0,1], n) # np.resize - изменяет\n",
        "    # [0,1] -> [0, 1, 0, 1, 0] (для n=5)\n",
        "    return np.abs(a-np.array([a]).T)\n",
        "\n",
        "N = int(input())\n",
        "\n",
        "x = checkerboard(N)\n",
        "\n",
        "for i in x:\n",
        "    print(*i)"
      ],
      "metadata": {
        "id": "Ks1GdHGoRm4V",
        "colab": {
          "base_uri": "https://localhost:8080/"
        },
        "outputId": "878942b6-a53c-4b17-d9b2-e56636ccede6"
      },
      "execution_count": null,
      "outputs": [
        {
          "output_type": "stream",
          "name": "stdout",
          "text": [
            "5\n",
            "0 1 0 1 0\n",
            "1 0 1 0 1\n",
            "0 1 0 1 0\n",
            "1 0 1 0 1\n",
            "0 1 0 1 0\n"
          ]
        }
      ]
    },
    {
      "cell_type": "code",
      "source": [
        "n = 6\n",
        "a = np.resize([0,1], n)\n",
        "a"
      ],
      "metadata": {
        "colab": {
          "base_uri": "https://localhost:8080/"
        },
        "id": "KxzvBtFO_3J7",
        "outputId": "acd7722c-aad4-4d74-d933-3f927dfaebe2"
      },
      "execution_count": null,
      "outputs": [
        {
          "output_type": "execute_result",
          "data": {
            "text/plain": [
              "array([0, 1, 0, 1, 0, 1])"
            ]
          },
          "metadata": {},
          "execution_count": 52
        }
      ]
    },
    {
      "cell_type": "code",
      "source": [
        "print(*a)"
      ],
      "metadata": {
        "colab": {
          "base_uri": "https://localhost:8080/"
        },
        "id": "LSkBlz-lI-Y3",
        "outputId": "ff1b4391-bf4e-43ef-c36f-577b91eb2169"
      },
      "execution_count": null,
      "outputs": [
        {
          "output_type": "stream",
          "name": "stdout",
          "text": [
            "0 1 0 1 0 1\n"
          ]
        }
      ]
    },
    {
      "cell_type": "code",
      "source": [
        "np.array([a]).T"
      ],
      "metadata": {
        "colab": {
          "base_uri": "https://localhost:8080/"
        },
        "id": "-H5TLxsCAaQJ",
        "outputId": "9a48e6ab-c607-4048-fd12-d0eb16a36fc2"
      },
      "execution_count": null,
      "outputs": [
        {
          "output_type": "execute_result",
          "data": {
            "text/plain": [
              "array([[0],\n",
              "       [1],\n",
              "       [0],\n",
              "       [1],\n",
              "       [0],\n",
              "       [1]])"
            ]
          },
          "metadata": {},
          "execution_count": 49
        }
      ]
    },
    {
      "cell_type": "code",
      "source": [
        "np.abs(a - np.array([a]).T)"
      ],
      "metadata": {
        "colab": {
          "base_uri": "https://localhost:8080/"
        },
        "id": "FbtRivUDIugw",
        "outputId": "1f6eeaec-4dd5-453d-cd20-c793ea9a0cd1"
      },
      "execution_count": null,
      "outputs": [
        {
          "output_type": "execute_result",
          "data": {
            "text/plain": [
              "array([[0, 1, 0, 1, 0, 1],\n",
              "       [1, 0, 1, 0, 1, 0],\n",
              "       [0, 1, 0, 1, 0, 1],\n",
              "       [1, 0, 1, 0, 1, 0],\n",
              "       [0, 1, 0, 1, 0, 1],\n",
              "       [1, 0, 1, 0, 1, 0]])"
            ]
          },
          "metadata": {},
          "execution_count": 51
        }
      ]
    },
    {
      "cell_type": "markdown",
      "source": [
        "## 2 вариант решения"
      ],
      "metadata": {
        "id": "x6tJPjB3BWyW"
      }
    },
    {
      "cell_type": "markdown",
      "source": [
        "![Frame 1.png](data:image/png;base64,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)"
      ],
      "metadata": {
        "id": "aNm_iuWyBkQr"
      }
    },
    {
      "cell_type": "code",
      "source": [
        "N = 4\n",
        "b = np.ones((N,N)) # создаем матрицу NxN, заполенненую 1\n",
        "b"
      ],
      "metadata": {
        "colab": {
          "base_uri": "https://localhost:8080/"
        },
        "id": "vRR1kEYRAknG",
        "outputId": "7a60c8c8-4ba1-4a80-cf38-740007887023"
      },
      "execution_count": null,
      "outputs": [
        {
          "output_type": "execute_result",
          "data": {
            "text/plain": [
              "array([[1., 1., 1., 1.],\n",
              "       [1., 1., 1., 1.],\n",
              "       [1., 1., 1., 1.],\n",
              "       [1., 1., 1., 1.]])"
            ]
          },
          "metadata": {},
          "execution_count": 54
        }
      ]
    },
    {
      "cell_type": "code",
      "source": [
        "# [start:stop-1:step] - срез\n",
        "# [raw, column] - обращение к элементам матрицы\n",
        "b[::2, ::2] = 0 # для четных строк\n",
        "b[1::2, 1::2] = 0 # для нечетных строк\n",
        "b"
      ],
      "metadata": {
        "colab": {
          "base_uri": "https://localhost:8080/"
        },
        "id": "h7gsVd6YAqFc",
        "outputId": "e2145937-03e2-416b-a3b3-16737df5e2a8"
      },
      "execution_count": null,
      "outputs": [
        {
          "output_type": "execute_result",
          "data": {
            "text/plain": [
              "array([[0., 1., 0., 1.],\n",
              "       [1., 0., 1., 0.],\n",
              "       [0., 1., 0., 1.],\n",
              "       [1., 0., 1., 0.]])"
            ]
          },
          "metadata": {},
          "execution_count": 19
        }
      ]
    },
    {
      "cell_type": "markdown",
      "source": [
        "# C. Нулевая колонка"
      ],
      "metadata": {
        "id": "9STPyrGYRoV5"
      }
    },
    {
      "cell_type": "markdown",
      "source": [
        "## 1 вариант решения"
      ],
      "metadata": {
        "id": "neW6owDPBylx"
      }
    },
    {
      "cell_type": "code",
      "source": [
        "import numpy as np\n",
        "\n",
        "with open('input.txt') as file:\n",
        "    x = np.array([[int(digit) for digit in line.split()] for line in file])\n",
        "\n",
        "# 1 5 0 -4\n",
        "# 1 4 8 7\n",
        "# 9 0 0 -3\n",
        "\n",
        "# [11, 9, 8, 8]\n",
        "sums = x.sum(axis=0)\n",
        "\n",
        "if 0 in sums:\n",
        "    print(True)\n",
        "else:\n",
        "    print(False)\n",
        "\n",
        "# В чем минус этого решения?"
      ],
      "metadata": {
        "id": "9NuWau_0RrRG"
      },
      "execution_count": null,
      "outputs": []
    },
    {
      "cell_type": "markdown",
      "source": [
        "## 2 вариант решения"
      ],
      "metadata": {
        "id": "jDkiqZ2RB02A"
      }
    },
    {
      "cell_type": "code",
      "source": [
        "import numpy as np\n",
        "\n",
        "with open('input.txt') as file:\n",
        "    x = np.array([[int(digit) for digit in line.split()] for line in file])\n",
        "\n",
        "x == 0"
      ],
      "metadata": {
        "colab": {
          "base_uri": "https://localhost:8080/"
        },
        "id": "hR0Qqx0ZB128",
        "outputId": "44d5867f-0955-4a80-ab9d-30cc15822f82"
      },
      "execution_count": null,
      "outputs": [
        {
          "output_type": "execute_result",
          "data": {
            "text/plain": [
              "array([[ True, False, False, False, False, False],\n",
              "       [ True, False, False, False, False, False],\n",
              "       [ True, False, False, False, False, False],\n",
              "       [ True, False, False, False, False, False],\n",
              "       [ True, False, False, False, False, False]])"
            ]
          },
          "metadata": {},
          "execution_count": 57
        }
      ]
    },
    {
      "cell_type": "code",
      "source": [
        "(x == 0).all(axis=0)"
      ],
      "metadata": {
        "colab": {
          "base_uri": "https://localhost:8080/"
        },
        "id": "l3o1fPr0CVlv",
        "outputId": "266c4cab-f447-4b3e-beb8-d947df3b92d4"
      },
      "execution_count": null,
      "outputs": [
        {
          "output_type": "execute_result",
          "data": {
            "text/plain": [
              "array([ True, False, False, False, False, False])"
            ]
          },
          "metadata": {},
          "execution_count": 58
        }
      ]
    },
    {
      "cell_type": "code",
      "source": [
        "# any() - хотя 1 True\n",
        "# all() - все элементы True"
      ],
      "metadata": {
        "id": "OAt0PfO5MOBW"
      },
      "execution_count": null,
      "outputs": []
    },
    {
      "cell_type": "code",
      "source": [
        "print((x == 0).all(axis=0).any())"
      ],
      "metadata": {
        "colab": {
          "base_uri": "https://localhost:8080/"
        },
        "id": "p8h0RED8Ca1g",
        "outputId": "18cfbf56-e9c5-44f3-d865-24917a734fe7"
      },
      "execution_count": null,
      "outputs": [
        {
          "output_type": "execute_result",
          "data": {
            "text/plain": [
              "True"
            ]
          },
          "metadata": {},
          "execution_count": 22
        }
      ]
    },
    {
      "cell_type": "markdown",
      "source": [
        "# D. Симметричная матрица"
      ],
      "metadata": {
        "id": "gaxZ5yGYRs_1"
      }
    },
    {
      "cell_type": "code",
      "source": [
        "import numpy as np\n",
        "\n",
        "def symetric(arr, tol=1e-8):\n",
        "    return np.all(np.abs(arr-arr.T) == 0)\n",
        "\n",
        "with open('input2.txt') as file:\n",
        "    x = np.array([[int(digit) for digit in line.split()] for line in file])\n",
        "\n",
        "print(symetric(x))"
      ],
      "metadata": {
        "id": "ubYQ6Hy6Rvjy",
        "colab": {
          "base_uri": "https://localhost:8080/"
        },
        "outputId": "2f258440-b02d-4ce2-a71d-4b3d7a8680f8"
      },
      "execution_count": null,
      "outputs": [
        {
          "output_type": "stream",
          "name": "stdout",
          "text": [
            "True\n"
          ]
        }
      ]
    },
    {
      "cell_type": "code",
      "source": [
        "x"
      ],
      "metadata": {
        "colab": {
          "base_uri": "https://localhost:8080/"
        },
        "id": "lyGh7Dp-CnYh",
        "outputId": "6757eb0e-a1b1-4132-c20a-5c98ea067fa8"
      },
      "execution_count": null,
      "outputs": [
        {
          "output_type": "execute_result",
          "data": {
            "text/plain": [
              "array([[1, 2, 3, 4],\n",
              "       [2, 8, 5, 6],\n",
              "       [3, 5, 9, 7],\n",
              "       [4, 6, 7, 0]])"
            ]
          },
          "metadata": {},
          "execution_count": 32
        }
      ]
    },
    {
      "cell_type": "code",
      "source": [
        "# cnt = 0\n",
        "# for i in range(len(x)):\n",
        "#     for j in range(len(x)):\n",
        "#         if a[i,j] == a[j,i]:\n",
        "#             cnt += 1\n",
        "\n",
        "# cnt == 16:\n",
        "# print(True)"
      ],
      "metadata": {
        "id": "VRTC81Cnxxhr"
      },
      "execution_count": null,
      "outputs": []
    },
    {
      "cell_type": "code",
      "source": [
        "x.T"
      ],
      "metadata": {
        "colab": {
          "base_uri": "https://localhost:8080/"
        },
        "id": "gRby0bPQCpZV",
        "outputId": "ee50c99a-395b-4702-f6aa-9c54532d1bd0"
      },
      "execution_count": null,
      "outputs": [
        {
          "output_type": "execute_result",
          "data": {
            "text/plain": [
              "array([[1, 2, 3, 4],\n",
              "       [2, 8, 5, 6],\n",
              "       [3, 5, 9, 7],\n",
              "       [4, 6, 7, 0]])"
            ]
          },
          "metadata": {},
          "execution_count": 33
        }
      ]
    },
    {
      "cell_type": "code",
      "source": [
        "np.abs(x - x.T)"
      ],
      "metadata": {
        "colab": {
          "base_uri": "https://localhost:8080/"
        },
        "id": "jrUH1JjFCqz0",
        "outputId": "fdbe91a6-d8f6-4a3b-e2b1-188478c71e4d"
      },
      "execution_count": null,
      "outputs": [
        {
          "output_type": "execute_result",
          "data": {
            "text/plain": [
              "array([[0, 0, 0, 0],\n",
              "       [0, 0, 0, 0],\n",
              "       [0, 0, 0, 0],\n",
              "       [0, 0, 0, 0]])"
            ]
          },
          "metadata": {},
          "execution_count": 34
        }
      ]
    },
    {
      "cell_type": "code",
      "source": [
        "np.abs(x-x.T) == 0"
      ],
      "metadata": {
        "colab": {
          "base_uri": "https://localhost:8080/"
        },
        "id": "9dVQhl2MDaR3",
        "outputId": "3090a24d-520a-414a-d305-84524c065159"
      },
      "execution_count": null,
      "outputs": [
        {
          "output_type": "execute_result",
          "data": {
            "text/plain": [
              "array([[ True,  True,  True,  True],\n",
              "       [ True,  True,  True,  True],\n",
              "       [ True,  True,  True,  True],\n",
              "       [ True,  True,  True,  True]])"
            ]
          },
          "metadata": {},
          "execution_count": 61
        }
      ]
    },
    {
      "cell_type": "code",
      "source": [
        "np.all(np.abs(x-x.T) == 0)"
      ],
      "metadata": {
        "colab": {
          "base_uri": "https://localhost:8080/"
        },
        "id": "dJ2Ors6ONT6r",
        "outputId": "24a7ccc3-6a7c-4342-9303-c11472dd12d5"
      },
      "execution_count": null,
      "outputs": [
        {
          "output_type": "execute_result",
          "data": {
            "text/plain": [
              "True"
            ]
          },
          "metadata": {},
          "execution_count": 62
        }
      ]
    },
    {
      "cell_type": "markdown",
      "source": [
        "# E. Максимальная сумма в строке"
      ],
      "metadata": {
        "id": "LNW3ECPVRw70"
      }
    },
    {
      "cell_type": "code",
      "source": [
        "import numpy as np\n",
        "\n",
        "# with open('input.txt') as file:\n",
        "#     x = np.array([[int(digit) for digit in line.split()] for line in file])\n",
        "\n",
        "x = np.array([[1,3,4], [0,4,2], [2,2,4]])\n",
        "x"
      ],
      "metadata": {
        "id": "SCczr0BBRy65",
        "colab": {
          "base_uri": "https://localhost:8080/"
        },
        "outputId": "85144259-dd15-4612-f8f8-b3fae27bc323"
      },
      "execution_count": null,
      "outputs": [
        {
          "output_type": "execute_result",
          "data": {
            "text/plain": [
              "array([[1, 3, 4],\n",
              "       [0, 4, 2],\n",
              "       [2, 2, 4]])"
            ]
          },
          "metadata": {},
          "execution_count": 1
        }
      ]
    },
    {
      "cell_type": "code",
      "source": [
        "1+3+4 = 8\n",
        "0+4+2 = 6\n",
        "2+2+4 = 8\n",
        "\n",
        "max = 8\n",
        "index = 0, 2"
      ],
      "metadata": {
        "id": "ZG8zTTnLynp7"
      },
      "execution_count": null,
      "outputs": []
    },
    {
      "cell_type": "code",
      "source": [
        "a = x.sum(axis=1)\n",
        "# a = [8, 6, 8]"
      ],
      "metadata": {
        "id": "zbPiDTB3g9QR"
      },
      "execution_count": null,
      "outputs": []
    },
    {
      "cell_type": "code",
      "source": [
        "a.argmax() # не подходит"
      ],
      "metadata": {
        "colab": {
          "base_uri": "https://localhost:8080/"
        },
        "id": "BWhFFytCN5pW",
        "outputId": "946e6823-a86f-4ad9-c107-516e0e81afa5"
      },
      "execution_count": null,
      "outputs": [
        {
          "output_type": "execute_result",
          "data": {
            "text/plain": [
              "0"
            ]
          },
          "metadata": {},
          "execution_count": 65
        }
      ]
    },
    {
      "cell_type": "code",
      "source": [
        "import numpy as np\n",
        "# np.where(условие, что делать если условие выполнено, что делать если не выполнено)\n",
        "b = np.array([1,0,7,1,0,8,0])\n",
        "\n",
        "np.where(b==0)"
      ],
      "metadata": {
        "colab": {
          "base_uri": "https://localhost:8080/"
        },
        "id": "-n1k09HwzOMU",
        "outputId": "0bfac4ca-a8db-45e1-9e4c-ab8eed83c51d"
      },
      "execution_count": null,
      "outputs": [
        {
          "output_type": "execute_result",
          "data": {
            "text/plain": [
              "(array([1, 4, 6]),)"
            ]
          },
          "metadata": {},
          "execution_count": 7
        }
      ]
    },
    {
      "cell_type": "code",
      "source": [
        "indx = np.where(a == np.max(a))\n",
        "# a = [8, 6, 8]\n",
        "# () - кортеж"
      ],
      "metadata": {
        "colab": {
          "base_uri": "https://localhost:8080/"
        },
        "id": "cKV2OB96OF4m",
        "outputId": "99b50a4a-d6c9-4163-a67f-27dcd594a4c4"
      },
      "execution_count": null,
      "outputs": [
        {
          "output_type": "execute_result",
          "data": {
            "text/plain": [
              "(array([0, 2]),)"
            ]
          },
          "metadata": {},
          "execution_count": 66
        }
      ]
    },
    {
      "cell_type": "code",
      "source": [
        "print(*indx[0])"
      ],
      "metadata": {
        "colab": {
          "base_uri": "https://localhost:8080/"
        },
        "id": "eiMuTmUEg94Y",
        "outputId": "23ffb18c-087c-43f7-cedb-e4dd63d5f6db"
      },
      "execution_count": null,
      "outputs": [
        {
          "output_type": "stream",
          "name": "stdout",
          "text": [
            "0 2\n"
          ]
        }
      ]
    },
    {
      "cell_type": "code",
      "source": [
        "a = x.sum(axis=1)\n",
        "# [3, 10, 31]\n",
        "# a == np.max(a) -> [False, False, True]\n",
        "print(*np.where(a == np.max(a)))"
      ],
      "metadata": {
        "id": "NgYTu8JUg6Xk"
      },
      "execution_count": null,
      "outputs": []
    }
  ]
}