{
 "cells": [
  {
   "cell_type": "markdown",
   "metadata": {},
   "source": [
    "# [Classification task](https://www.kaggle.com/competitions/star-type-classification)\n",
    "\n",
    "- **Vmag** - Визуальная видимая величина звезды\n",
    "- **Plx** - Расстояние между звездой и Землей (параллакс)\n",
    "- **e_Plx** - Стандартная ошибка параллакса (подсказка: если значение очень велико - это плохо, скорее всего такие объекты нужно отбросить)\n",
    "- **B-V** - Индекс цвета. (Горячая звезда имеет показатель цвета B-V, близкий к 0 или отрицательный, тогда как холодная звезда имеет показатель цвета B-V, близкий к 2).\n",
    "- **SpType** - Спектральный тип звезды по классификации МК\n",
    "- **Amag** - Абсолютная величина звезды (Absolute Magnitude of the Star)\n",
    "- **TargetClass** - Целевая переменная (Является ли звезда карликом (0) или гигантом (1))"
   ]
  },
  {
   "cell_type": "markdown",
   "metadata": {},
   "source": [
    "## My code"
   ]
  },
  {
   "cell_type": "code",
   "execution_count": 24,
   "metadata": {},
   "outputs": [],
   "source": [
    "import pandas as pd"
   ]
  },
  {
   "cell_type": "code",
   "execution_count": 25,
   "metadata": {},
   "outputs": [],
   "source": [
    "train = pd.read_csv(\"train_star.csv\")\n",
    "test = pd.read_csv(\"test_star.csv\")"
   ]
  },
  {
   "cell_type": "code",
   "execution_count": 26,
   "metadata": {},
   "outputs": [],
   "source": [
    "import re\n",
    "from sklearn.preprocessing import StandardScaler\n",
    "import numpy as np\n",
    "\n",
    "# Функции для обработки SpType\n",
    "def parse_spectral_class(sptype):\n",
    "    match = re.match(r'^([OBAFGKM])([^/]*)', sptype)\n",
    "    return match.group(1) if match else 'Unknown'\n",
    "\n",
    "def parse_subclass(sptype):\n",
    "    match = re.search(r'(\\d+\\.?\\d*)', sptype)\n",
    "    return float(match.group(1)) if match else 0.0\n",
    "\n",
    "def parse_luminosity_class(sptype):\n",
    "    match = re.search(r'(II{1,2}|I{1,4}|IV|V)\\b', sptype)\n",
    "    return match.group(1) if match else 'V' if 'V' in sptype else 'Unknown'\n",
    "\n",
    "# Предобработка данных\n",
    "class DataPreprocessor:\n",
    "    def __init__(self):\n",
    "        self.scaler = None\n",
    "        self.spectral_classes = ['O','B','A','F','G','K','M','Unknown']\n",
    "        self.luminosity_classes = ['V','IV','III','II','I','Unknown']\n",
    "    \n",
    "    def fit_transform(self, df, is_train=True):\n",
    "        df = df.copy()\n",
    "        # Извлечение признаков\n",
    "        df['spectral_class'] = df['SpType'].apply(parse_spectral_class)\n",
    "        df['subclass'] = df['SpType'].apply(parse_subclass)\n",
    "        df['luminosity_class'] = df['SpType'].apply(parse_luminosity_class)\n",
    "        \n",
    "        # Кодирование категориальных признаков\n",
    "        df['spectral_class'] = pd.Categorical(df['spectral_class'], categories=self.spectral_classes)\n",
    "        spectral_dummies = pd.get_dummies(df['spectral_class'], prefix='spec')\n",
    "        \n",
    "        df['luminosity_class'] = pd.Categorical(df['luminosity_class'], categories=self.luminosity_classes)\n",
    "        luminosity_dummies = pd.get_dummies(df['luminosity_class'], prefix='lum')\n",
    "        \n",
    "        # Числовые признаки\n",
    "        df['Plx_over_ePlx'] = df['Plx'] / df['e_Plx'].replace(0, np.nan)\n",
    "        df['Plx_over_ePlx'] = df['Plx_over_ePlx'].fillna(0).replace([np.inf, -np.inf], 0)\n",
    "        \n",
    "        numerical = ['Vmag','Plx','e_Plx','B-V','Amag','subclass','Plx_over_ePlx']\n",
    "        \n",
    "        # Масштабирование\n",
    "        if is_train:\n",
    "            self.scaler = StandardScaler()\n",
    "            df[numerical] = self.scaler.fit_transform(df[numerical])\n",
    "        else:\n",
    "            df[numerical] = self.scaler.transform(df[numerical])\n",
    "            \n",
    "        return pd.concat([df[numerical], spectral_dummies, luminosity_dummies], axis=1)"
   ]
  },
  {
   "cell_type": "code",
   "execution_count": 27,
   "metadata": {},
   "outputs": [],
   "source": [
    "preprocessor = DataPreprocessor()\n",
    "\n",
    "X_train = preprocessor.fit_transform(train.drop(columns=['TargetClass']), is_train=True)\n",
    "y_train = (train[\"TargetClass\"] == \"Giant\").astype(int)\n",
    "X_test = preprocessor.fit_transform(test, is_train=False)"
   ]
  },
  {
   "cell_type": "code",
   "execution_count": 28,
   "metadata": {},
   "outputs": [],
   "source": [
    "from sklearn.linear_model import LogisticRegression\n",
    "\n",
    "log_reg = LogisticRegression()\n",
    "log_reg.fit(X_train, y_train)\n",
    "y_test = log_reg.predict(X_test)"
   ]
  },
  {
   "cell_type": "code",
   "execution_count": 29,
   "metadata": {},
   "outputs": [],
   "source": [
    "pd.DataFrame(y_test).rename(columns={0: \"TargetClass\"}).reset_index().to_csv(\"prediction.csv\", index=False)"
   ]
  },
  {
   "cell_type": "markdown",
   "metadata": {},
   "source": [
    "## Deepseek code\n",
    "\n",
    "У меня есть датасет без пропусков звезд с следующими параметрами:\n",
    "- **Vmag** - Визуальная видимая величина звезды\n",
    "- **Plx** - Расстояние между звездой и Землей (параллакс)\n",
    "- **e_Plx** - Стандартная ошибка параллакса (подсказка: если значение очень велико - это плохо, скорее всего такие объекты нужно отбросить)\n",
    "- **B-V** - Индекс цвета. (Горячая звезда имеет показатель цвета B-V, близкий к 0 или отрицательный, тогда как холодная звезда имеет показатель цвета B-V, близкий к 2).\n",
    "- **SpType** - Спектральный тип звезды по классификации МК\n",
    "- **Amag** - Абсолютная величина звезды (Absolute Magnitude of the Star)\n",
    "- **TargetClass** - Целевая переменная (Является ли звезда карликом (0) или гигантом (1))\n",
    "\n",
    "Мне нужно предсказать при помощи классификации TargetClass.\n",
    "Команда `train[\"TargetClass\"].value_counts()` выдает:\n",
    "```\n",
    "TargetClass\n",
    "Giant    15793\n",
    "Dwarf     4939\n",
    "```\n",
    "А `train[\"SpType\"].unique()`:\n",
    "```\n",
    "array(['G5/G6V', 'M1V:', 'F3V', ..., 'B6Vwp...', 'G6:V:+...', 'K1V(p)'],\n",
    "      dtype=object)\n",
    "```\n",
    "Длинны 1600.\n",
    "Я ожидаю от тебя нейронную сеть наиболее подходящую для этой задачи, которая на другой часть датасета выдаст ответ."
   ]
  },
  {
   "cell_type": "code",
   "execution_count": 30,
   "metadata": {},
   "outputs": [],
   "source": [
    "import pandas as pd\n",
    "import numpy as np\n",
    "import re\n",
    "from sklearn.preprocessing import StandardScaler\n",
    "import tensorflow as tf\n",
    "from tensorflow.keras import Sequential, layers, callbacks, optimizers\n",
    "\n",
    "# Функции для обработки SpType\n",
    "def parse_spectral_class(sptype):\n",
    "    match = re.match(r'^([OBAFGKM])([^/]*)', sptype)\n",
    "    return match.group(1) if match else 'Unknown'\n",
    "\n",
    "def parse_subclass(sptype):\n",
    "    match = re.search(r'(\\d+\\.?\\d*)', sptype)\n",
    "    return float(match.group(1)) if match else 0.0\n",
    "\n",
    "def parse_luminosity_class(sptype):\n",
    "    match = re.search(r'(II{1,2}|I{1,4}|IV|V)\\b', sptype)\n",
    "    return match.group(1) if match else 'V' if 'V' in sptype else 'Unknown'\n",
    "\n",
    "# Предобработка данных\n",
    "class DataPreprocessor:\n",
    "    def __init__(self):\n",
    "        self.scaler = None\n",
    "        self.spectral_classes = ['O','B','A','F','G','K','M','Unknown']\n",
    "        self.luminosity_classes = ['V','IV','III','II','I','Unknown']\n",
    "    \n",
    "    def fit_transform(self, df, is_train=True):\n",
    "        df = df.copy()\n",
    "        # Извлечение признаков\n",
    "        df['spectral_class'] = df['SpType'].apply(parse_spectral_class)\n",
    "        df['subclass'] = df['SpType'].apply(parse_subclass)\n",
    "        df['luminosity_class'] = df['SpType'].apply(parse_luminosity_class)\n",
    "        \n",
    "        # Кодирование категориальных признаков\n",
    "        df['spectral_class'] = pd.Categorical(df['spectral_class'], categories=self.spectral_classes)\n",
    "        spectral_dummies = pd.get_dummies(df['spectral_class'], prefix='spec')\n",
    "        \n",
    "        df['luminosity_class'] = pd.Categorical(df['luminosity_class'], categories=self.luminosity_classes)\n",
    "        luminosity_dummies = pd.get_dummies(df['luminosity_class'], prefix='lum')\n",
    "        \n",
    "        # Числовые признаки\n",
    "        df['Plx_over_ePlx'] = df['Plx'] / df['e_Plx'].replace(0, np.nan)\n",
    "        df['Plx_over_ePlx'] = df['Plx_over_ePlx'].fillna(0).replace([np.inf, -np.inf], 0)\n",
    "        \n",
    "        numerical = ['Vmag','Plx','e_Plx','B-V','Amag','subclass','Plx_over_ePlx']\n",
    "        \n",
    "        # Масштабирование\n",
    "        if is_train:\n",
    "            self.scaler = StandardScaler()\n",
    "            df[numerical] = self.scaler.fit_transform(df[numerical])\n",
    "        else:\n",
    "            df[numerical] = self.scaler.transform(df[numerical])\n",
    "            \n",
    "        return pd.concat([df[numerical], spectral_dummies, luminosity_dummies], axis=1)"
   ]
  },
  {
   "cell_type": "code",
   "execution_count": 31,
   "metadata": {},
   "outputs": [],
   "source": [
    "# Загрузка данных\n",
    "train = pd.read_csv(\"train_star.csv\")\n",
    "test = pd.read_csv(\"test_star.csv\")\n",
    "\n",
    "# Предобработка\n",
    "preprocessor = DataPreprocessor()\n",
    "X_train = preprocessor.fit_transform(train.drop(columns=['TargetClass']), is_train=True)\n",
    "y_train = (train[\"TargetClass\"] == \"Giant\").astype(int)\n",
    "X_test = preprocessor.fit_transform(test, is_train=False)"
   ]
  },
  {
   "cell_type": "code",
   "execution_count": 32,
   "metadata": {},
   "outputs": [
    {
     "name": "stdout",
     "output_type": "stream",
     "text": [
      "<class 'pandas.core.series.Series'>\n",
      "RangeIndex: 20732 entries, 0 to 20731\n",
      "Series name: TargetClass\n",
      "Non-Null Count  Dtype\n",
      "--------------  -----\n",
      "20732 non-null  int64\n",
      "dtypes: int64(1)\n",
      "memory usage: 162.1 KB\n",
      "Epoch 1/100\n"
     ]
    },
    {
     "name": "stderr",
     "output_type": "stream",
     "text": [
      "/home/andredon/projects/ADA/.venv/lib/python3.12/site-packages/keras/src/layers/core/dense.py:87: UserWarning: Do not pass an `input_shape`/`input_dim` argument to a layer. When using Sequential models, prefer using an `Input(shape)` object as the first layer in the model instead.\n",
      "  super().__init__(activity_regularizer=activity_regularizer, **kwargs)\n"
     ]
    },
    {
     "name": "stdout",
     "output_type": "stream",
     "text": [
      "\u001b[1m65/65\u001b[0m \u001b[32m━━━━━━━━━━━━━━━━━━━━\u001b[0m\u001b[37m\u001b[0m \u001b[1m0s\u001b[0m 2ms/step - accuracy: 0.8136 - auc_2: 0.8657 - loss: 0.5363 - val_accuracy: 0.9395 - val_auc_2: 0.9835 - val_loss: 0.1699\n",
      "Epoch 2/100\n",
      "\u001b[1m65/65\u001b[0m \u001b[32m━━━━━━━━━━━━━━━━━━━━\u001b[0m\u001b[37m\u001b[0m \u001b[1m0s\u001b[0m 1ms/step - accuracy: 0.9427 - auc_2: 0.9820 - loss: 0.1738 - val_accuracy: 0.9590 - val_auc_2: 0.9889 - val_loss: 0.1329\n",
      "Epoch 3/100\n",
      "\u001b[1m65/65\u001b[0m \u001b[32m━━━━━━━━━━━━━━━━━━━━\u001b[0m\u001b[37m\u001b[0m \u001b[1m0s\u001b[0m 974us/step - accuracy: 0.9597 - auc_2: 0.9872 - loss: 0.1152 - val_accuracy: 0.9605 - val_auc_2: 0.9901 - val_loss: 0.1211\n",
      "Epoch 4/100\n",
      "\u001b[1m65/65\u001b[0m \u001b[32m━━━━━━━━━━━━━━━━━━━━\u001b[0m\u001b[37m\u001b[0m \u001b[1m0s\u001b[0m 994us/step - accuracy: 0.9628 - auc_2: 0.9877 - loss: 0.1100 - val_accuracy: 0.9605 - val_auc_2: 0.9908 - val_loss: 0.1184\n",
      "Epoch 5/100\n",
      "\u001b[1m65/65\u001b[0m \u001b[32m━━━━━━━━━━━━━━━━━━━━\u001b[0m\u001b[37m\u001b[0m \u001b[1m0s\u001b[0m 986us/step - accuracy: 0.9633 - auc_2: 0.9889 - loss: 0.0995 - val_accuracy: 0.9605 - val_auc_2: 0.9913 - val_loss: 0.1120\n",
      "Epoch 6/100\n",
      "\u001b[1m65/65\u001b[0m \u001b[32m━━━━━━━━━━━━━━━━━━━━\u001b[0m\u001b[37m\u001b[0m \u001b[1m0s\u001b[0m 1ms/step - accuracy: 0.9658 - auc_2: 0.9891 - loss: 0.0958 - val_accuracy: 0.9605 - val_auc_2: 0.9912 - val_loss: 0.1141\n",
      "Epoch 7/100\n",
      "\u001b[1m65/65\u001b[0m \u001b[32m━━━━━━━━━━━━━━━━━━━━\u001b[0m\u001b[37m\u001b[0m \u001b[1m0s\u001b[0m 941us/step - accuracy: 0.9648 - auc_2: 0.9901 - loss: 0.0942 - val_accuracy: 0.9605 - val_auc_2: 0.9913 - val_loss: 0.1045\n",
      "Epoch 8/100\n",
      "\u001b[1m65/65\u001b[0m \u001b[32m━━━━━━━━━━━━━━━━━━━━\u001b[0m\u001b[37m\u001b[0m \u001b[1m0s\u001b[0m 979us/step - accuracy: 0.9638 - auc_2: 0.9914 - loss: 0.0896 - val_accuracy: 0.9605 - val_auc_2: 0.9915 - val_loss: 0.1069\n",
      "Epoch 9/100\n",
      "\u001b[1m65/65\u001b[0m \u001b[32m━━━━━━━━━━━━━━━━━━━━\u001b[0m\u001b[37m\u001b[0m \u001b[1m0s\u001b[0m 965us/step - accuracy: 0.9645 - auc_2: 0.9901 - loss: 0.0928 - val_accuracy: 0.9605 - val_auc_2: 0.9915 - val_loss: 0.1045\n",
      "Epoch 10/100\n",
      "\u001b[1m65/65\u001b[0m \u001b[32m━━━━━━━━━━━━━━━━━━━━\u001b[0m\u001b[37m\u001b[0m \u001b[1m0s\u001b[0m 951us/step - accuracy: 0.9627 - auc_2: 0.9907 - loss: 0.0934 - val_accuracy: 0.9605 - val_auc_2: 0.9915 - val_loss: 0.1089\n",
      "Epoch 11/100\n",
      "\u001b[1m65/65\u001b[0m \u001b[32m━━━━━━━━━━━━━━━━━━━━\u001b[0m\u001b[37m\u001b[0m \u001b[1m0s\u001b[0m 950us/step - accuracy: 0.9652 - auc_2: 0.9919 - loss: 0.0872 - val_accuracy: 0.9605 - val_auc_2: 0.9915 - val_loss: 0.1031\n",
      "Epoch 12/100\n",
      "\u001b[1m65/65\u001b[0m \u001b[32m━━━━━━━━━━━━━━━━━━━━\u001b[0m\u001b[37m\u001b[0m \u001b[1m0s\u001b[0m 959us/step - accuracy: 0.9642 - auc_2: 0.9909 - loss: 0.0909 - val_accuracy: 0.9605 - val_auc_2: 0.9916 - val_loss: 0.1050\n",
      "Epoch 13/100\n",
      "\u001b[1m65/65\u001b[0m \u001b[32m━━━━━━━━━━━━━━━━━━━━\u001b[0m\u001b[37m\u001b[0m \u001b[1m0s\u001b[0m 962us/step - accuracy: 0.9650 - auc_2: 0.9914 - loss: 0.0874 - val_accuracy: 0.9605 - val_auc_2: 0.9916 - val_loss: 0.1028\n",
      "Epoch 14/100\n",
      "\u001b[1m65/65\u001b[0m \u001b[32m━━━━━━━━━━━━━━━━━━━━\u001b[0m\u001b[37m\u001b[0m \u001b[1m0s\u001b[0m 929us/step - accuracy: 0.9644 - auc_2: 0.9915 - loss: 0.0891 - val_accuracy: 0.9605 - val_auc_2: 0.9916 - val_loss: 0.1059\n",
      "Epoch 15/100\n",
      "\u001b[1m65/65\u001b[0m \u001b[32m━━━━━━━━━━━━━━━━━━━━\u001b[0m\u001b[37m\u001b[0m \u001b[1m0s\u001b[0m 961us/step - accuracy: 0.9643 - auc_2: 0.9919 - loss: 0.0879 - val_accuracy: 0.9605 - val_auc_2: 0.9916 - val_loss: 0.1037\n",
      "Epoch 16/100\n",
      "\u001b[1m65/65\u001b[0m \u001b[32m━━━━━━━━━━━━━━━━━━━━\u001b[0m\u001b[37m\u001b[0m \u001b[1m0s\u001b[0m 944us/step - accuracy: 0.9659 - auc_2: 0.9918 - loss: 0.0858 - val_accuracy: 0.9605 - val_auc_2: 0.9917 - val_loss: 0.1044\n",
      "Epoch 17/100\n",
      "\u001b[1m65/65\u001b[0m \u001b[32m━━━━━━━━━━━━━━━━━━━━\u001b[0m\u001b[37m\u001b[0m \u001b[1m0s\u001b[0m 912us/step - accuracy: 0.9642 - auc_2: 0.9916 - loss: 0.0869 - val_accuracy: 0.9605 - val_auc_2: 0.9916 - val_loss: 0.1042\n",
      "Epoch 18/100\n",
      "\u001b[1m65/65\u001b[0m \u001b[32m━━━━━━━━━━━━━━━━━━━━\u001b[0m\u001b[37m\u001b[0m \u001b[1m0s\u001b[0m 917us/step - accuracy: 0.9650 - auc_2: 0.9912 - loss: 0.0883 - val_accuracy: 0.9605 - val_auc_2: 0.9917 - val_loss: 0.1019\n",
      "Epoch 19/100\n",
      "\u001b[1m65/65\u001b[0m \u001b[32m━━━━━━━━━━━━━━━━━━━━\u001b[0m\u001b[37m\u001b[0m \u001b[1m0s\u001b[0m 956us/step - accuracy: 0.9622 - auc_2: 0.9905 - loss: 0.0933 - val_accuracy: 0.9605 - val_auc_2: 0.9915 - val_loss: 0.1109\n",
      "Epoch 20/100\n",
      "\u001b[1m65/65\u001b[0m \u001b[32m━━━━━━━━━━━━━━━━━━━━\u001b[0m\u001b[37m\u001b[0m \u001b[1m0s\u001b[0m 945us/step - accuracy: 0.9651 - auc_2: 0.9914 - loss: 0.0867 - val_accuracy: 0.9605 - val_auc_2: 0.9916 - val_loss: 0.1085\n",
      "Epoch 21/100\n",
      "\u001b[1m65/65\u001b[0m \u001b[32m━━━━━━━━━━━━━━━━━━━━\u001b[0m\u001b[37m\u001b[0m \u001b[1m0s\u001b[0m 907us/step - accuracy: 0.9663 - auc_2: 0.9918 - loss: 0.0857 - val_accuracy: 0.9605 - val_auc_2: 0.9917 - val_loss: 0.1035\n",
      "Epoch 22/100\n",
      "\u001b[1m65/65\u001b[0m \u001b[32m━━━━━━━━━━━━━━━━━━━━\u001b[0m\u001b[37m\u001b[0m \u001b[1m0s\u001b[0m 889us/step - accuracy: 0.9643 - auc_2: 0.9924 - loss: 0.0857 - val_accuracy: 0.9605 - val_auc_2: 0.9917 - val_loss: 0.1059\n",
      "Epoch 23/100\n",
      "\u001b[1m65/65\u001b[0m \u001b[32m━━━━━━━━━━━━━━━━━━━━\u001b[0m\u001b[37m\u001b[0m \u001b[1m0s\u001b[0m 914us/step - accuracy: 0.9658 - auc_2: 0.9926 - loss: 0.0833 - val_accuracy: 0.9605 - val_auc_2: 0.9917 - val_loss: 0.1010\n",
      "Epoch 24/100\n",
      "\u001b[1m65/65\u001b[0m \u001b[32m━━━━━━━━━━━━━━━━━━━━\u001b[0m\u001b[37m\u001b[0m \u001b[1m0s\u001b[0m 892us/step - accuracy: 0.9631 - auc_2: 0.9914 - loss: 0.0895 - val_accuracy: 0.9605 - val_auc_2: 0.9917 - val_loss: 0.1065\n",
      "Epoch 25/100\n",
      "\u001b[1m65/65\u001b[0m \u001b[32m━━━━━━━━━━━━━━━━━━━━\u001b[0m\u001b[37m\u001b[0m \u001b[1m0s\u001b[0m 942us/step - accuracy: 0.9672 - auc_2: 0.9929 - loss: 0.0800 - val_accuracy: 0.9605 - val_auc_2: 0.9917 - val_loss: 0.1038\n",
      "Epoch 26/100\n",
      "\u001b[1m65/65\u001b[0m \u001b[32m━━━━━━━━━━━━━━━━━━━━\u001b[0m\u001b[37m\u001b[0m \u001b[1m0s\u001b[0m 928us/step - accuracy: 0.9634 - auc_2: 0.9910 - loss: 0.0905 - val_accuracy: 0.9605 - val_auc_2: 0.9916 - val_loss: 0.1006\n",
      "Epoch 27/100\n",
      "\u001b[1m65/65\u001b[0m \u001b[32m━━━━━━━━━━━━━━━━━━━━\u001b[0m\u001b[37m\u001b[0m \u001b[1m0s\u001b[0m 973us/step - accuracy: 0.9656 - auc_2: 0.9928 - loss: 0.0825 - val_accuracy: 0.9605 - val_auc_2: 0.9916 - val_loss: 0.1002\n",
      "Epoch 28/100\n",
      "\u001b[1m65/65\u001b[0m \u001b[32m━━━━━━━━━━━━━━━━━━━━\u001b[0m\u001b[37m\u001b[0m \u001b[1m0s\u001b[0m 981us/step - accuracy: 0.9639 - auc_2: 0.9923 - loss: 0.0860 - val_accuracy: 0.9605 - val_auc_2: 0.9917 - val_loss: 0.1030\n",
      "Epoch 29/100\n",
      "\u001b[1m65/65\u001b[0m \u001b[32m━━━━━━━━━━━━━━━━━━━━\u001b[0m\u001b[37m\u001b[0m \u001b[1m0s\u001b[0m 948us/step - accuracy: 0.9642 - auc_2: 0.9919 - loss: 0.0867 - val_accuracy: 0.9605 - val_auc_2: 0.9918 - val_loss: 0.1046\n",
      "Epoch 30/100\n",
      "\u001b[1m65/65\u001b[0m \u001b[32m━━━━━━━━━━━━━━━━━━━━\u001b[0m\u001b[37m\u001b[0m \u001b[1m0s\u001b[0m 930us/step - accuracy: 0.9642 - auc_2: 0.9920 - loss: 0.0871 - val_accuracy: 0.9605 - val_auc_2: 0.9917 - val_loss: 0.1078\n",
      "Epoch 31/100\n",
      "\u001b[1m65/65\u001b[0m \u001b[32m━━━━━━━━━━━━━━━━━━━━\u001b[0m\u001b[37m\u001b[0m \u001b[1m0s\u001b[0m 953us/step - accuracy: 0.9615 - auc_2: 0.9913 - loss: 0.0914 - val_accuracy: 0.9605 - val_auc_2: 0.9917 - val_loss: 0.1014\n",
      "Epoch 32/100\n",
      "\u001b[1m65/65\u001b[0m \u001b[32m━━━━━━━━━━━━━━━━━━━━\u001b[0m\u001b[37m\u001b[0m \u001b[1m0s\u001b[0m 922us/step - accuracy: 0.9643 - auc_2: 0.9923 - loss: 0.0857 - val_accuracy: 0.9607 - val_auc_2: 0.9917 - val_loss: 0.1015\n"
     ]
    }
   ],
   "source": [
    "# Построение модели\n",
    "model = Sequential([\n",
    "    layers.Dense(128, activation='relu', input_shape=(X_train.shape[1],)),\n",
    "    layers.Dropout(0.5),\n",
    "    layers.Dense(64, activation='relu'),\n",
    "    layers.Dropout(0.3),\n",
    "    layers.Dense(1, activation='sigmoid')\n",
    "])\n",
    "\n",
    "model.compile(\n",
    "    optimizer=optimizers.Adam(0.001),\n",
    "    loss='binary_crossentropy',\n",
    "    metrics=['accuracy', tf.keras.metrics.AUC()]\n",
    ")\n",
    "\n",
    "# Балансировка классов\n",
    "class_weight = {0: 2.5, 1: 0.7}\n",
    "y_train.info()\n",
    "\n",
    "# Обучение\n",
    "history = model.fit(\n",
    "    X_train, y_train,\n",
    "    epochs=100,\n",
    "    batch_size=256,\n",
    "    validation_split=0.2,\n",
    "    class_weight=class_weight,\n",
    "    callbacks=[callbacks.EarlyStopping(patience=5, restore_best_weights=True)]\n",
    ")"
   ]
  },
  {
   "cell_type": "code",
   "execution_count": 33,
   "metadata": {},
   "outputs": [
    {
     "name": "stdout",
     "output_type": "stream",
     "text": [
      "\u001b[1m589/589\u001b[0m \u001b[32m━━━━━━━━━━━━━━━━━━━━\u001b[0m\u001b[37m\u001b[0m \u001b[1m0s\u001b[0m 163us/step\n"
     ]
    }
   ],
   "source": [
    "# Предсказание и сохранение\n",
    "predictions = model.predict(X_test)\n",
    "result = pd.DataFrame({\n",
    "    'TargetClass': (predictions.squeeze() >= 0.5).astype(int)\n",
    "})\n",
    "pd.DataFrame(result).rename(columns={0: \"TargetClass\"}).reset_index().to_csv(\"predictions.csv\", index=False)"
   ]
  }
 ],
 "metadata": {
  "kernelspec": {
   "display_name": ".venv",
   "language": "python",
   "name": "python3"
  },
  "language_info": {
   "codemirror_mode": {
    "name": "ipython",
    "version": 3
   },
   "file_extension": ".py",
   "mimetype": "text/x-python",
   "name": "python",
   "nbconvert_exporter": "python",
   "pygments_lexer": "ipython3",
   "version": "3.12.3"
  }
 },
 "nbformat": 4,
 "nbformat_minor": 2
}
