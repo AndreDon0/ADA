{
  "nbformat": 4,
  "nbformat_minor": 0,
  "metadata": {
    "colab": {
      "provenance": []
    },
    "kernelspec": {
      "name": "python3",
      "display_name": "Python 3"
    },
    "language_info": {
      "name": "python"
    }
  },
  "cells": [
    {
      "cell_type": "markdown",
      "source": [
        "# A. Свёрточный слой"
      ],
      "metadata": {
        "id": "v--lGOdhJcFB"
      }
    },
    {
      "cell_type": "markdown",
      "source": [
        "**Формат ввода** \\\\\n",
        "Сначала вводится два целых числа через пробел - размер свёртки. Первое число - ширина, второе - высота.\n",
        "Затем построчна вводится свёртка. Все числа в свёртке - целые. Разделены пробелами.\n",
        "Затем вводится два целых числа через пробел - размер изображения. Первое число - ширина, второе - высота.\n",
        "Затем вводится изображение, аналогично свёртке.\n",
        "\n",
        "\n",
        "3 3 \\\\\n",
        "1 0 0 \\\\\n",
        "0 1 0  \\\\\n",
        "0 0 1 \\\\\n",
        "5 5 \\\\\n",
        "1 2 2 1 0 \\\\\n",
        "0 1 0 2 0 \\\\\n",
        "1 0 1 2 1 \\\\\n",
        "0 2 2 2 1 \\\\\n",
        "2 0 2 0 2 \\\\\n",
        "\n",
        "**Формат вывода** \\\\\n",
        "Через пробел построчно выводится результат свёртки. Для приведённого примера это: \\\\\n",
        "3 4 5 \\\\\n",
        "2 4 3 \\\\\n",
        "5 2 5"
      ],
      "metadata": {
        "id": "PbFQMqCpKx7q"
      }
    },
    {
      "cell_type": "code",
      "execution_count": null,
      "metadata": {
        "id": "TSpB6t4-JZqL"
      },
      "outputs": [],
      "source": [
        "kw, kh = map(int, input().split())\n",
        "ke = [list(map(int, input().split())) for _ in range(kh)]\n",
        "iw, ih = map(int, input().split())\n",
        "im = [list(map(int, input().split())) for _ in range(ih)]\n",
        "\n",
        "pw = iw - kw + 1\n",
        "ph = ih - kh + 1\n",
        "\n",
        "p = [[0 for _ in range(pw)] for _ in range(ph)]\n",
        "\n",
        "for j in range(ph):\n",
        "    for i in range(pw):\n",
        "        s = 0\n",
        "        for jj in range(kh):\n",
        "            for ii in range(kw):\n",
        "                s += im[j + jj][i + ii] * ke[jj][ii]\n",
        "        p[j][i] = s\n",
        "\n",
        "for _ in p:\n",
        "    print(*_)"
      ]
    },
    {
      "cell_type": "markdown",
      "source": [
        "# B. Шаг градиентного спуска\n",
        "\n",
        "Градиентный спуск - метод оптимизации функции многих переменных.\n",
        "\n",
        "Для функции $ x^2 + 15* cos(x) $ с заданным начальным значением $ x_0 $, количеством итераций $ N $, скоростью обучения $ \\lambda $ посчитайте позицию рассчитанной точки оптимума после применения метода.\n",
        "\n",
        "На каждой следующей итерации точка считается по формуле:\n",
        "\n",
        "$ x_{n+1}=x_n - \\lambda * f'(x_n) $"
      ],
      "metadata": {
        "id": "XcC2EbafTEgT"
      }
    },
    {
      "cell_type": "code",
      "source": [
        "from math import sin\n",
        "x0, n, l = map(float, input().split())\n",
        "for _ in range(int(n)): x0 = x0 - l * ( 2*x0 - 15 * sin(x0))\n",
        "print(round(x0, 4))"
      ],
      "metadata": {
        "id": "SM1vwciOT7gr"
      },
      "execution_count": null,
      "outputs": []
    },
    {
      "cell_type": "markdown",
      "source": [
        "# C. Скобочная последовательность\n",
        "\n",
        "Напишите программу, которая проверяет правильность скобочного выражения, включающего четыре вида скобок: (), [], {} и <>. Должна соблюдаться правильная вложенность скобок. Например, выражение ()([{<>()}]) – правильное, а выражения ()([{)(()}]), ([{}] и ([{)}] – неправильные. Входная строка содержит скобочное выражение. Кроме скобок четырёх видов, оно может содержать и другие символы, которые нужно игнорировать. Программа должна вывести слово 'YES', если выражение правильное, и 'NO', если оно неправильное.\n",
        "\n",
        "Формат ввода \\\\\n",
        "(([{}])\n",
        "\n",
        "Формат вывода \\\\\n",
        "NO"
      ],
      "metadata": {
        "id": "e-KAXMPsU426"
      }
    },
    {
      "cell_type": "markdown",
      "source": [
        "Классическое решение"
      ],
      "metadata": {
        "id": "-ZPo398DVZvb"
      }
    },
    {
      "cell_type": "code",
      "source": [
        "line = input()\n",
        "\n",
        "oppen = ['(', '[', '{', '<']\n",
        "close = [')', ']', '}', '>']\n",
        "duo_1 = ['(',')']\n",
        "duo_2 = ['[',']']\n",
        "duo_3 = ['{','}']\n",
        "duo_4 = ['<','>']\n",
        "res = []\n",
        "\n",
        "for i in line:\n",
        "    if i in oppen or i in close:\n",
        "        res.append(i)\n",
        "\n",
        "t = 1\n",
        "while len(res) > 0:\n",
        "    if t == 0:\n",
        "        print(\"NO\")\n",
        "        break\n",
        "    for i in range(len(res)):\n",
        "        if res[i] in close:\n",
        "            if res[i] in duo_1 and res[i-1] in duo_1:\n",
        "                res.pop(i)\n",
        "                res.pop(i-1)\n",
        "                break\n",
        "            elif res[i] in duo_2 and res[i - 1] in duo_2:\n",
        "                res.pop(i)\n",
        "                res.pop(i - 1)\n",
        "                break\n",
        "            elif res[i] in duo_3 and res[i - 1] in duo_3:\n",
        "                res.pop(i)\n",
        "                res.pop(i - 1)\n",
        "                break\n",
        "            elif res[i] in duo_4 and res[i-1] in duo_4:\n",
        "                res.pop(i)\n",
        "                res.pop(i - 1)\n",
        "                break\n",
        "            else:\n",
        "                t = 0\n",
        "                break\n",
        "        if i == len(res) - 1:\n",
        "            t = 0\n",
        "            break\n",
        "if t == 1:\n",
        "    print(\"YES\")"
      ],
      "metadata": {
        "id": "AdDHUy6-VZBb"
      },
      "execution_count": null,
      "outputs": []
    },
    {
      "cell_type": "markdown",
      "source": [
        "Красивое решение"
      ],
      "metadata": {
        "id": "zp23SyPFZrUU"
      }
    },
    {
      "cell_type": "code",
      "source": [
        "import re\n",
        "\n",
        "s = input()\n",
        "s = re.sub(r'[^(){}<>[\\]]', '', s)\n",
        "\n",
        "while re.search(r'\\(\\)|\\{\\}|\\[\\]|<>', s):\n",
        "    s = re.sub(r'\\(\\)|\\{\\}|\\[\\]|<>', '', s)\n",
        "\n",
        "print('NO' if not s == '' else 'YES')"
      ],
      "metadata": {
        "colab": {
          "base_uri": "https://localhost:8080/"
        },
        "id": "ih1QcRHUYC_s",
        "outputId": "42f13c1f-46ef-4d04-b143-b7d50f0090ee"
      },
      "execution_count": null,
      "outputs": [
        {
          "output_type": "stream",
          "name": "stdout",
          "text": [
            "(ssss)\n",
            "()\n",
            "YES\n"
          ]
        }
      ]
    },
    {
      "cell_type": "markdown",
      "source": [
        "# D. Мощность множества решений многочлена 2 степени\n",
        "\n",
        "Вам даны коэффициенты многочлена 2 степени следующего вида a*(x2)+b*x+c=d. Все коэффициенты - целые числа, вводимые через пробел в одной строке в таком же порядке, что и в представленном уравнении.\n",
        "Мощность множества решений уравнения - количество решений у данного уравнения. Коэффициенты уравнения - целые числа. Решения - любые действительные числа.\n",
        "В ответ выведите мощность множества решений получаемого уравнения.\n",
        "\n",
        "Формат ввода \\\\\n",
        "1 7 -8 0\n",
        "\n",
        "Формат вывода \\\\\n",
        "2\n",
        "\n",
        "Примечания \\\\\n",
        "Если мощность множества решений равна бесконечности, выведите \"-1\"."
      ],
      "metadata": {
        "id": "8J-hU668bvN8"
      }
    },
    {
      "cell_type": "code",
      "source": [
        "a, b, c, d = map(int, input().split())\n",
        "c-=d\n",
        "\n",
        "if a == 0:\n",
        "    if b == 0:\n",
        "        if c == 0:\n",
        "            print(-1)\n",
        "        else:\n",
        "            print(0)\n",
        "    else:\n",
        "        print(1)\n",
        "else:\n",
        "    D = b**2 - 4*a*c\n",
        "    if D == 0:\n",
        "        print(1)\n",
        "    elif D > 0:\n",
        "        print(2)\n",
        "    else:\n",
        "        print(0)"
      ],
      "metadata": {
        "id": "6ahMpYu3bvfc"
      },
      "execution_count": null,
      "outputs": []
    },
    {
      "cell_type": "markdown",
      "source": [
        "# E. Могучий нейрон\n",
        "\n",
        "Реализуйте код математического нейрона. Он представляет собой функцию от суммы произвольного количества чисел на входе, умноженную на произвольные числовые веса и смещения.\n",
        "$$y = f(\\sum_{i=0}^n x_i*w_i + b)$$\n",
        "В виде функции выступает известная функция RELU. Её суть в следующем: для x>0 она возвращает x, а иначе возвращает 0.\n",
        "\n",
        "Учтите, что в данных могут быть ошибки, выраженные в несоответствии длин ряда весов и ряда чисел на входе.\n"
      ],
      "metadata": {
        "id": "yBN89VUjbwFM"
      }
    },
    {
      "cell_type": "code",
      "source": [
        "delt = lambda x: max(0,x)\n",
        "\n",
        "n = int(input())\n",
        "w = list(map(int, input().split()))\n",
        "l = int(input())\n",
        "xs = list(map(int, input().split()))\n",
        "\n",
        "ws = 0\n",
        "if len(w) != len(xs):\n",
        "    print(\"No solution\")\n",
        "else:\n",
        "    for i in range(n):\n",
        "        ws += w[i]*xs[i]\n",
        "    ws += l\n",
        "    print(delt(ws))"
      ],
      "metadata": {
        "id": "2klqAF0MdD41"
      },
      "execution_count": null,
      "outputs": []
    }
  ]
}