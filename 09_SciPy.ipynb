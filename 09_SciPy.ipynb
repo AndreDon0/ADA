{
  "nbformat": 4,
  "nbformat_minor": 0,
  "metadata": {
    "colab": {
      "provenance": []
    },
    "kernelspec": {
      "name": "python3",
      "display_name": "Python 3"
    },
    "language_info": {
      "name": "python"
    }
  },
  "cells": [
    {
      "cell_type": "markdown",
      "source": [
        "Модуль NumPy не содержит достаточное количество математических методов, позволяющих проводить различных вычисления. При этом в математике много сложных вычислений, которые, мягко говоря, не всегда хочется считать вручную.\n",
        "\n",
        "Одной из наиболее популярных надстроек над numpy, позволяющих проводить вычисления является модуль scipy."
      ],
      "metadata": {
        "id": "UkzUIh5_wWuH"
      }
    },
    {
      "cell_type": "code",
      "source": [
        "0.1 + 0.1 + 0.1"
      ],
      "metadata": {
        "colab": {
          "base_uri": "https://localhost:8080/"
        },
        "id": "AsMvbVaRPgqL",
        "outputId": "4bc884e4-487e-4751-b0cc-0e9614c2d405"
      },
      "execution_count": null,
      "outputs": [
        {
          "output_type": "execute_result",
          "data": {
            "text/plain": [
              "0.30000000000000004"
            ]
          },
          "metadata": {},
          "execution_count": 15
        }
      ]
    },
    {
      "cell_type": "markdown",
      "source": [
        "# Интегрирование"
      ],
      "metadata": {
        "id": "Jhry5mlNJvIh"
      }
    },
    {
      "cell_type": "code",
      "execution_count": null,
      "metadata": {
        "colab": {
          "base_uri": "https://localhost:8080/"
        },
        "id": "-ROXRAWhqiK7",
        "outputId": "7d2bc89d-a551-40af-ac42-9c604a46c9ed"
      },
      "outputs": [
        {
          "output_type": "stream",
          "name": "stdout",
          "text": [
            "(3.9086503371292665, 4.3394735994897923e-14)\n"
          ]
        }
      ],
      "source": [
        "from scipy import special\n",
        "from scipy import integrate\n",
        "import numpy as np\n",
        "\n",
        "\n",
        "a = lambda x:special.exp10(x)\n",
        "b = integrate.quad(a, 0, 1)\n",
        "print(b)"
      ]
    },
    {
      "cell_type": "code",
      "source": [
        "a = lambda y, x: x*y**2\n",
        "integrate.dblquad(a, 0, 2, 1, -1)"
      ],
      "metadata": {
        "colab": {
          "base_uri": "https://localhost:8080/"
        },
        "id": "j1F4YMAcDrgw",
        "outputId": "bc27fdc1-3a62-49f3-dca6-e448ca543635"
      },
      "execution_count": null,
      "outputs": [
        {
          "output_type": "execute_result",
          "data": {
            "text/plain": [
              "(-1.3333333333333335, 1.4802973661668755e-14)"
            ]
          },
          "metadata": {},
          "execution_count": 7
        }
      ]
    },
    {
      "cell_type": "markdown",
      "source": [
        "# Интерполяция"
      ],
      "metadata": {
        "id": "8too3xU0JxMS"
      }
    },
    {
      "cell_type": "code",
      "source": [
        "import matplotlib.pyplot as plt\n",
        "from scipy import interpolate\n",
        "\n",
        "x = np.arange(-20, 20, 2)\n",
        "print(x)\n",
        "y = x**2\n",
        "print(y)\n",
        "\n",
        "f = interpolate.interp1d(x, y)\n",
        "\n",
        "x1 = np.arange(-19, 19)\n",
        "print(x1)\n",
        "y1 = f(x1)\n",
        "print(y1)\n",
        "plt.plot(x, y, 'o', x1, y1, '--')\n",
        "plt.show()"
      ],
      "metadata": {
        "colab": {
          "base_uri": "https://localhost:8080/",
          "height": 609
        },
        "id": "Qe5wglreD_V6",
        "outputId": "4d578051-24ec-4e93-cce7-44adf4da7b00"
      },
      "execution_count": null,
      "outputs": [
        {
          "output_type": "stream",
          "name": "stdout",
          "text": [
            "[-20 -18 -16 -14 -12 -10  -8  -6  -4  -2   0   2   4   6   8  10  12  14\n",
            "  16  18]\n",
            "[400 324 256 196 144 100  64  36  16   4   0   4  16  36  64 100 144 196\n",
            " 256 324]\n",
            "[-19 -18 -17 -16 -15 -14 -13 -12 -11 -10  -9  -8  -7  -6  -5  -4  -3  -2\n",
            "  -1   0   1   2   3   4   5   6   7   8   9  10  11  12  13  14  15  16\n",
            "  17  18]\n",
            "[362. 324. 290. 256. 226. 196. 170. 144. 122. 100.  82.  64.  50.  36.\n",
            "  26.  16.  10.   4.   2.   0.   2.   4.  10.  16.  26.  36.  50.  64.\n",
            "  82. 100. 122. 144. 170. 196. 226. 256. 290. 324.]\n"
          ]
        },
        {
          "output_type": "display_data",
          "data": {
            "text/plain": [
              "<Figure size 640x480 with 1 Axes>"
            ],
            "image/png": "[encoded data removed]"
          },
          "metadata": {}
        }
      ]
    },
    {
      "cell_type": "markdown",
      "source": [
        "# Матрицы"
      ],
      "metadata": {
        "id": "OJ05zPWEJ1ni"
      }
    },
    {
      "cell_type": "code",
      "source": [
        "\n",
        "from scipy import linalg\n",
        "A = np.array([[1,2], [4,3]])\n",
        "B = linalg.inv(A)\n",
        "print(B)"
      ],
      "metadata": {
        "colab": {
          "base_uri": "https://localhost:8080/"
        },
        "id": "uC32e322EUap",
        "outputId": "3eb404ec-47a1-4cb9-e8bb-dcb7d1ebdfbf"
      },
      "execution_count": null,
      "outputs": [
        {
          "output_type": "stream",
          "name": "stdout",
          "text": [
            "[[-0.6  0.4]\n",
            " [ 0.8 -0.2]]\n"
          ]
        }
      ]
    },
    {
      "cell_type": "code",
      "source": [
        "A = np.array([[1,2], [4,3]])\n",
        "B = linalg.det(A)\n",
        "print(B)"
      ],
      "metadata": {
        "colab": {
          "base_uri": "https://localhost:8080/"
        },
        "id": "9Xiw_CHYEePw",
        "outputId": "7f1c98b6-b517-4c0e-c10f-36239f5bbdd5"
      },
      "execution_count": null,
      "outputs": [
        {
          "output_type": "stream",
          "name": "stdout",
          "text": [
            "-5.0\n"
          ]
        }
      ]
    },
    {
      "cell_type": "markdown",
      "source": [
        "Ключевая проблема библиотеки при этом такая же, как и у остального языка Python - вычисления неточные."
      ],
      "metadata": {
        "id": "nx-MVIZwJ4-R"
      }
    }
  ]
}