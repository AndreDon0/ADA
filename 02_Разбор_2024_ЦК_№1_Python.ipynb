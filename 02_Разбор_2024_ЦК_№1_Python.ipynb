{
  "nbformat": 4,
  "nbformat_minor": 0,
  "metadata": {
    "colab": {
      "provenance": []
    },
    "kernelspec": {
      "name": "python3",
      "display_name": "Python 3"
    },
    "language_info": {
      "name": "python"
    }
  },
  "cells": [
    {
      "cell_type": "markdown",
      "source": [
        "# A. Гуси и не лебеди"
      ],
      "metadata": {
        "id": "p_XGn8OCcob5"
      }
    },
    {
      "cell_type": "markdown",
      "source": [
        "Неожиданная ситуация. Вы знаете, что за углом вас ждут гуси и котики. Вам птичка на хвосте принесла общее число лап ожидающего вас сообщества. Сколько гусей и котиков может быть за углом?\n",
        "\n",
        "**Формат ввода**\n",
        "\n",
        "4\n",
        "\n",
        "**Формат вывода**\n",
        "\n",
        "2 0\n",
        "\n",
        "0 1\n",
        "\n",
        "**Примечания**\n",
        "\n",
        "На вход вам поступает число лап.\n",
        "\n",
        "На выход надо вывести все возможные комбинации числа гусей и числа котиков.\n",
        "В данном примере может быть: 2 гуся (первое число первой строки) и 0 котиков (второе число) или 0 гусей (первое число второй строки) и 1 котик (второе число).\n",
        "\n",
        "Комбинации выводите последовательно по росту числа котиков. Если из данного числа лап невозможно вывести число котиков и гусей выведите 0."
      ],
      "metadata": {
        "id": "KL_cMGJncpdz"
      }
    },
    {
      "cell_type": "markdown",
      "source": [
        "## Первый вариант решения"
      ],
      "metadata": {
        "id": "DsFYl1Fz1xNp"
      }
    },
    {
      "cell_type": "code",
      "execution_count": null,
      "metadata": {
        "id": "9N8E0Rj3chlG"
      },
      "outputs": [],
      "source": [
        "# здесь мы явно преобразовываем в тип int. Почему?\n",
        "# потому что функция input() ВСЕГДА возвращает строку, чтобы вы не ввели с клавиатуры\n",
        "\n",
        "n = int(input())"
      ]
    },
    {
      "cell_type": "code",
      "source": [
        "# возьмем решение участника и разберем его\n",
        "c = 0\n",
        "for i in range(n+1):\n",
        "    if ((n-4*i)%2 ==0) and ((n-4*i)>=0):\n",
        "        print( (n-4*i)//2,i )\n",
        "        c+=1\n",
        "if c==0:\n",
        "    print('0')"
      ],
      "metadata": {
        "id": "9y7UtRoMg9G7"
      },
      "execution_count": null,
      "outputs": []
    },
    {
      "cell_type": "markdown",
      "source": [
        "## Давайте немного обсудим code style"
      ],
      "metadata": {
        "id": "4Nex2t4Wt61t"
      }
    },
    {
      "cell_type": "markdown",
      "source": [
        "PEP 8 - руководство по написанию кода на Python:\n",
        "\n",
        "https://pythonworld.ru/osnovy/pep-8-rukovodstvo-po-napisaniyu-koda-na-python.html"
      ],
      "metadata": {
        "id": "LtJThzKRt-yp"
      }
    },
    {
      "cell_type": "markdown",
      "source": [
        "**Для начала давайте разберем, что не так в коде выше:**\n",
        "1. Всегда окружайте эти бинарные операторы одним пробелом с каждой стороны: присваивания (=, +=, -= и другие), сравнения (==, <, >, !=, <>, <=, >=, in, not in, is, is not), логические (and, or, not).\n",
        "\n",
        "2. Если используются операторы с разными приоритетами, попробуйте добавить пробелы вокруг операторов с самым низким приоритетом. Используйте свои собственные суждения, однако, никогда не используйте более одного пробела, и всегда используйте одинаковое количество пробелов по обе стороны бинарного оператора.\n",
        "\n",
        "Как проверить ваш кодстайл: https://dvmn.org/encyclopedia/clean_code/python_basics_pep8/#:~:text=%D0%9F%D0%BE%D0%BC%D0%B8%D0%BC%D0%BE%20PEP%208%20%D0%B5%D1%81%D1%82%D1%8C%20%D0%B5%D1%89%D1%91,%D0%B2%D1%8B%D0%B4%D0%B0%D1%81%D1%82%20%D0%B2%D1%81%D0%B5%20%D0%BD%D0%B0%D1%80%D1%83%D1%88%D0%B5%D0%BD%D0%B8%D1%8F%20PEP%208."
      ],
      "metadata": {
        "id": "bagiBk-GhI4d"
      }
    },
    {
      "cell_type": "markdown",
      "source": [
        "По данному коду получаем вот такой список рекомендаций:\n",
        "\n",
        "1. c:/Users/Аделя/Desktop/ЦК/goose.py:4:16: E228 missing whitespace around modulo operator\n",
        "2. c:/Users/Аделя/Desktop/ЦК/goose.py:4:21: E225 missing whitespace around operator\n",
        "3. c:/Users/Аделя/Desktop/ЦК/goose.py:4:36: E225 missing whitespace around operator\n",
        "4. c:/Users/Аделя/Desktop/ЦК/goose.py:5:15: E201 whitespace after '('\n",
        "5. c:/Users/Аделя/Desktop/ЦК/goose.py:5:26: E231 missing whitespace after ','\n",
        "6. c:/Users/Аделя/Desktop/ЦК/goose.py:5:28: E202 whitespace before ')'\n",
        "7. c:/Users/Аделя/Desktop/ЦК/goose.py:6:10: E225 missing whitespace around operator\n",
        "8. c:/Users/Аделя/Desktop/ЦК/goose.py:7:5: E225 missing whitespace around operator\n",
        "9. c:/Users/Аделя/Desktop/ЦК/goose.py:8:1: W391 blank line at end of file"
      ],
      "metadata": {
        "id": "-giqfpwWiL5C"
      }
    },
    {
      "cell_type": "markdown",
      "source": [
        "## Разбор 1 варианта решения"
      ],
      "metadata": {
        "id": "idF1SlIl10S4"
      }
    },
    {
      "cell_type": "code",
      "source": [
        "# по хорошему должно быть вот так\n",
        "# и тогда кодстайл ничего не будет рекомендовать\n",
        "c = 0\n",
        "for i in range(n + 1):\n",
        "    if ((n - 4 * i) % 2 == 0) and ((n - 4 * i) >= 0):\n",
        "        print((n - 4 * i)//2, i)\n",
        "        c += 1\n",
        "if c == 0:\n",
        "    print(0)\n",
        "\n",
        "# теперь давайте разберем код"
      ],
      "metadata": {
        "id": "o5VNbvGahjvZ"
      },
      "execution_count": null,
      "outputs": []
    },
    {
      "cell_type": "code",
      "source": [
        "# Давайте начнем с функции range()\n",
        "\n",
        "print(f'Start: 0, stop: 10 (-1), step = 1: {list(range(0, 10, 1))}')\n",
        "\n",
        "# По умолчанию start = 0, step = 1, и можно задавать только правую границу\n",
        "print(f'Start: 0, stop: 10 (-1), step = 1: {list(range(10))}')\n",
        "print(f'Start: 5, stop: 10 (-1), step = 2: {list(range(5, 10, 2))}')\n",
        "\n",
        "# При отрицательном шаге идем в обратную сторону\n",
        "print(f'Start: 10, stop: 5 (+1), step = -1: {list(range(10, 5, -1))}')\n",
        "print(f'Start: -1, stop: -7 (+1), step = -1: {list(range(-1, -7, -1))}')"
      ],
      "metadata": {
        "id": "MKzMlgthiv_t"
      },
      "execution_count": null,
      "outputs": []
    },
    {
      "cell_type": "code",
      "source": [
        "n = 10\n",
        "list(range(n + 1))\n",
        "# почему такой цикл?\n",
        "# мы предполагаем что если нам дано N = 10, то у нас не может быть больше 10 животных\n",
        "# но может быть любое целое неотрицательное число меньшее N\n",
        "# либо 0 животных, либо 1 животное, либо 2 и т.д., либо 10 животных"
      ],
      "metadata": {
        "colab": {
          "base_uri": "https://localhost:8080/"
        },
        "id": "-1CYTegJi4S8",
        "outputId": "a053fb1b-d991-49b5-b2b0-225ed171b20a"
      },
      "execution_count": null,
      "outputs": [
        {
          "output_type": "execute_result",
          "data": {
            "text/plain": [
              "[0, 1, 2, 3, 4, 5, 6, 7, 8, 9, 10]"
            ]
          },
          "metadata": {},
          "execution_count": 12
        }
      ]
    },
    {
      "cell_type": "markdown",
      "source": [
        "`((n - 4 * i) % 2 == 0)`\n",
        "\n",
        "Что делает эта часть?\n",
        "\n",
        "- `4*i` - например `i` - это `1`, т.е. делаем предположение что у нас одно животное, у которого 4 лапы.\n",
        "\n",
        "- `n - 4 * i` - сколько лап осталось\n",
        "\n",
        "- `(n - 4 * i) % 2 == 0` - проверяем оставшееся число лап - четно?\n",
        "\n",
        "- `(n - 4 * i) >= 0` - проверяем что лапы остались в принципе"
      ],
      "metadata": {
        "id": "SOzbk3djjp7H"
      }
    },
    {
      "cell_type": "code",
      "source": [
        "n = 10\n",
        "i = 1\n",
        "\n",
        "print(4 * i)\n",
        "print(n - 4 * i)\n",
        "print((n - 4 * i) % 2)\n",
        "((n - 4 * i) % 2 == 0)"
      ],
      "metadata": {
        "colab": {
          "base_uri": "https://localhost:8080/"
        },
        "id": "iRTN5bCmi_FU",
        "outputId": "6f81d3df-1d52-4a7c-d3db-85ed36df5e34"
      },
      "execution_count": null,
      "outputs": [
        {
          "output_type": "stream",
          "name": "stdout",
          "text": [
            "4\n",
            "6\n",
            "0\n"
          ]
        },
        {
          "output_type": "execute_result",
          "data": {
            "text/plain": [
              "True"
            ]
          },
          "metadata": {},
          "execution_count": 14
        }
      ]
    },
    {
      "cell_type": "code",
      "source": [
        "c = 0\n",
        "n = 4\n",
        "for i in range(n + 1):\n",
        "    # [0, 1, 2, 3, 4, 5, 6, 7, 8, 9, 10]\n",
        "    print(f'Текущее количество животных: {i}, сколько лап остается {n - 4 * i}')\n",
        "    if ((n - 4 * i) % 2 == 0) and ((n - 4 * i) >= 0):\n",
        "        print('Данная комбинация подходит:', (n - 4 * i)//2, i)\n",
        "        c += 1\n",
        "if c == 0:\n",
        "    print(0)"
      ],
      "metadata": {
        "colab": {
          "base_uri": "https://localhost:8080/"
        },
        "id": "4t1LDMN_i8DX",
        "outputId": "ab6c607e-5551-48a2-bd7f-bd0bb81c9c05"
      },
      "execution_count": null,
      "outputs": [
        {
          "output_type": "stream",
          "name": "stdout",
          "text": [
            "Текущее количество животных: 0, сколько лап остается 4\n",
            "Данная комбинация подходит: 2 0\n",
            "Текущее количество животных: 1, сколько лап остается 0\n",
            "Данная комбинация подходит: 0 1\n",
            "Текущее количество животных: 2, сколько лап остается -4\n",
            "Текущее количество животных: 3, сколько лап остается -8\n",
            "Текущее количество животных: 4, сколько лап остается -12\n"
          ]
        }
      ]
    },
    {
      "cell_type": "code",
      "source": [
        "# как можно улучшить?\n",
        "# можно не вводить счётчик, а сделать проверку на входе\n",
        "\n",
        "n = 4\n",
        "\n",
        "if n % 2 == 0:\n",
        "    for i in range(n + 1):\n",
        "        # [0, 1, 2, 3, 4, 5, 6, 7, 8, 9, 10]\n",
        "        print(f'Текущее количество животных: {i}, сколько лап остается {n - 4 * i}')\n",
        "        if ((n - 4 * i) % 2 == 0) and ((n - 4 * i) >= 0):\n",
        "            print('Данная комбинация подходит:', (n - 4 * i)//2, i)\n",
        "else:\n",
        "    print(0)"
      ],
      "metadata": {
        "colab": {
          "base_uri": "https://localhost:8080/"
        },
        "id": "UItoaXsYlHwJ",
        "outputId": "a68c88ea-2cec-444b-a720-87419c648ea1"
      },
      "execution_count": null,
      "outputs": [
        {
          "output_type": "stream",
          "name": "stdout",
          "text": [
            "Текущее количество животных: 0, сколько лап остается 4\n",
            "Данная комбинация подходит: 2 0\n",
            "Текущее количество животных: 1, сколько лап остается 0\n",
            "Данная комбинация подходит: 0 1\n",
            "Текущее количество животных: 2, сколько лап остается -4\n",
            "Текущее количество животных: 3, сколько лап остается -8\n",
            "Текущее количество животных: 4, сколько лап остается -12\n"
          ]
        }
      ]
    },
    {
      "cell_type": "code",
      "source": [
        "# ИТОГОВОЕ РЕШЕНИЕ\n",
        "\n",
        "n = int(input())\n",
        "\n",
        "if n % 2 == 0:\n",
        "    for i in range(n + 1):\n",
        "        if ((n - 4 * i) % 2 == 0) and ((n - 4 * i) >= 0):\n",
        "            print((n - 4 * i)//2, i)\n",
        "else:\n",
        "    print(0)"
      ],
      "metadata": {
        "id": "Qa9vd-dlmrGJ"
      },
      "execution_count": null,
      "outputs": []
    },
    {
      "cell_type": "markdown",
      "source": [
        "## Разбор 2-го варианта решения"
      ],
      "metadata": {
        "id": "ExE2BNtE145x"
      }
    },
    {
      "cell_type": "code",
      "source": [
        "# возьмем решение другого участника\n",
        "\n",
        "total_legs = int(input())\n",
        "found = False\n",
        "\n",
        "for cats in range(total_legs // 4 + 1): # [0, 1], т.е. либо 0 котов, либо 1\n",
        "    remaining_legs = total_legs - cats * 4 # cчитаем сколько лап осталось\n",
        "    if remaining_legs % 2 == 0:  # если осталось четное число лап\n",
        "        geese = remaining_legs // 2 # сколько гусей вмещается\n",
        "        print(geese, cats)\n",
        "        found = True\n",
        "\n",
        "if not found:\n",
        "    print(0)"
      ],
      "metadata": {
        "id": "zwUW6P29muJz"
      },
      "execution_count": null,
      "outputs": []
    },
    {
      "cell_type": "markdown",
      "source": [
        "Плюсы этого решения:\n",
        "\n",
        "1. Все переменные названы осмысленными названиями, что позволяет понять, что они значат.\n",
        "2. Соблюден код стайл и все пробелы стоят в нужных местах."
      ],
      "metadata": {
        "id": "n45d9LEouUwF"
      }
    },
    {
      "cell_type": "code",
      "source": [
        "# разберем решение\n",
        "total_legs = 4\n",
        "\n",
        "# так как отсчёт ведем от котов, то проверяем сколько котов вмещается в данное число лап\n",
        "# тут выводит 2, но нам это подходит,\n",
        "# так как range() в параметре stop берет правую границу как stop-1\n",
        "\n",
        "total_legs // 4 + 1"
      ],
      "metadata": {
        "colab": {
          "base_uri": "https://localhost:8080/"
        },
        "id": "sd0nqUppm1B6",
        "outputId": "6eca3968-4c17-451b-9fb1-a44f262e5c5e"
      },
      "execution_count": null,
      "outputs": [
        {
          "output_type": "execute_result",
          "data": {
            "text/plain": [
              "2"
            ]
          },
          "metadata": {},
          "execution_count": 1
        }
      ]
    },
    {
      "cell_type": "code",
      "source": [
        "# for cats in range(total_legs // 4 + 1)\n",
        "# т.е. этот цикл позволит нам итерироваться по возможному количеству котов\n",
        "\n",
        "total_legs = 4\n",
        "print(f'Количество лап: {total_legs}, возможное число котов {list(range(total_legs // 4 + 1))}')\n",
        "\n",
        "total_legs = 6\n",
        "print(f'Количество лап: {total_legs}, возможное число котов {list(range(total_legs // 4 + 1))}')\n",
        "\n",
        "total_legs = 8\n",
        "print(f'Количество лап: {total_legs}, возможное число котов {list(range(total_legs // 4 + 1))}')\n",
        "\n",
        "total_legs = 10\n",
        "print(f'Количество лап: {total_legs}, возможное число котов {list(range(total_legs // 4 + 1))}')"
      ],
      "metadata": {
        "colab": {
          "base_uri": "https://localhost:8080/"
        },
        "id": "gFRTHFKSuqhV",
        "outputId": "725bfe46-cc9f-4858-c869-a2b6f2bb0cd6"
      },
      "execution_count": null,
      "outputs": [
        {
          "output_type": "stream",
          "name": "stdout",
          "text": [
            "Количество лап: 4, возможное число котов [0, 1]\n",
            "Количество лап: 6, возможное число котов [0, 1]\n",
            "Количество лап: 8, возможное число котов [0, 1, 2]\n",
            "Количество лап: 10, возможное число котов [0, 1, 2]\n"
          ]
        }
      ]
    },
    {
      "cell_type": "code",
      "source": [
        "total_legs = 4\n",
        "for cats in range(total_legs // 4 + 1): # [0, 1], т.е. либо 0 котов, либо 1\n",
        "    remaining_legs = total_legs - cats * 4 # cчитаем сколько лап осталось\n",
        "    print(remaining_legs)"
      ],
      "metadata": {
        "colab": {
          "base_uri": "https://localhost:8080/"
        },
        "id": "XuS8rS3QvE-6",
        "outputId": "888681b0-44cd-44a6-a235-e51fff650ba0"
      },
      "execution_count": null,
      "outputs": [
        {
          "output_type": "stream",
          "name": "stdout",
          "text": [
            "4\n",
            "0\n"
          ]
        }
      ]
    },
    {
      "cell_type": "code",
      "source": [
        "for cats in range(total_legs // 4 + 1): # [0, 1], т.е. либо 0 котов, либо 1\n",
        "    remaining_legs = total_legs - cats * 4 # cчитаем сколько лап осталось\n",
        "    if remaining_legs % 2 == 0:  # если осталось четное число лап\n",
        "        geese = remaining_legs // 2 # сколько гусей вмещается"
      ],
      "metadata": {
        "id": "8RYPaW43vRbf"
      },
      "execution_count": null,
      "outputs": []
    },
    {
      "cell_type": "code",
      "source": [
        "remaining_legs = 4\n",
        "\n",
        "remaining_legs % 2 # остаток от деления на 2"
      ],
      "metadata": {
        "colab": {
          "base_uri": "https://localhost:8080/"
        },
        "id": "3cfj8FOSvWf9",
        "outputId": "1c3e5301-4c2c-47c2-f64e-a94acddcf891"
      },
      "execution_count": null,
      "outputs": [
        {
          "output_type": "execute_result",
          "data": {
            "text/plain": [
              "0"
            ]
          },
          "metadata": {},
          "execution_count": 9
        }
      ]
    },
    {
      "cell_type": "code",
      "source": [
        "remaining_legs // 2 # целая часть от деления на 2"
      ],
      "metadata": {
        "id": "b9jwerl3vdjC"
      },
      "execution_count": null,
      "outputs": []
    },
    {
      "cell_type": "markdown",
      "source": [
        "# B. Кто придумал этого Аккермана?"
      ],
      "metadata": {
        "id": "j8Bm5iZsnnt9"
      }
    },
    {
      "cell_type": "markdown",
      "source": [
        "В теории вычислимости важную роль играет функция Аккермана, определенная следующим образом:\n",
        "\n",
        "$\\begin{array}{lcl}\n",
        "A(0, m) & = & m+1 \\\\\n",
        "A(n+1, 0) & = &A(n, 1) \\\\\n",
        "A(n+1, m+1) & = & A(n, A(n+1, m))\n",
        "\\end{array}$\n",
        "\n",
        "Для двух чисел m и n, которые вводятся в одной строке входного потока через пробел соответственно, выведите значение A."
      ],
      "metadata": {
        "id": "ZI360JeGnn15"
      }
    },
    {
      "cell_type": "code",
      "source": [
        "# возьмем решение участника\n",
        "def A(n, m):\n",
        "    if n == 0:\n",
        "        return m + 1\n",
        "    if m == 0:\n",
        "        return A(n - 1, 1)\n",
        "    else:\n",
        "        return A(n - 1, A(n, m - 1))\n",
        "\n",
        "\n",
        "n, m = map(int, input().split())\n",
        "print(A(n, m))"
      ],
      "metadata": {
        "id": "Lja3Uhe-n-Vu"
      },
      "execution_count": null,
      "outputs": []
    },
    {
      "cell_type": "markdown",
      "source": [
        "С точки зрения кодстайла, тут только одно замечание, название функции, но тут оно простительно.\n",
        "\n",
        "Размерем код:\n",
        "\n",
        "1. `def A(n, m):` - объявление функции с именем $A$, которая принимает два параметра - $n, m$.\n",
        "\n",
        "2. `if n == 0:` по первому условию, если n = 0, то нужно вернуть: `return m + 1`\n",
        "\n",
        "3. И так далее по другим двум условиям."
      ],
      "metadata": {
        "id": "4FgGq7QCoEVl"
      }
    },
    {
      "cell_type": "code",
      "source": [
        "n, m = map(int, input().split())\n",
        "\n",
        "# разберем, что происходит тут\n",
        "\n",
        "input() # функция считывает что-то с клавиатуры и возвращает это в виде СТРОКИ!"
      ],
      "metadata": {
        "colab": {
          "base_uri": "https://localhost:8080/",
          "height": 70
        },
        "id": "Z9Ea3UxlopeI",
        "outputId": "b48ca14f-ad7d-46f3-eedb-3ddd7fa08845"
      },
      "execution_count": null,
      "outputs": [
        {
          "name": "stdout",
          "output_type": "stream",
          "text": [
            "4 3\n",
            "4 5\n"
          ]
        },
        {
          "output_type": "execute_result",
          "data": {
            "text/plain": [
              "'4 5'"
            ],
            "application/vnd.google.colaboratory.intrinsic+json": {
              "type": "string"
            }
          },
          "metadata": {},
          "execution_count": 24
        }
      ]
    },
    {
      "cell_type": "code",
      "source": [
        "input().split() # мы можем разделать строки на части по какому-то разделителю (по умолчанию пробел)\n",
        "\n",
        "print('Hello world'.split())\n",
        "print('Алексей, Аделя'.split(','))\n",
        "\n",
        "# сплит всегда возвращает СПИСОК разделенных элементов в виде строки!!!"
      ],
      "metadata": {
        "colab": {
          "base_uri": "https://localhost:8080/"
        },
        "id": "7x6zlzM6ozOE",
        "outputId": "10e6686f-e387-4c55-858c-c2f99c283f80"
      },
      "execution_count": null,
      "outputs": [
        {
          "output_type": "stream",
          "name": "stdout",
          "text": [
            "['Hello', 'world']\n",
            "['Алексей', ' Аделя']\n"
          ]
        }
      ]
    },
    {
      "cell_type": "code",
      "source": [
        "# что дает map?\n",
        "\n",
        "# map применяет некоторую функцию к итерактивному объекту (список, кортеж, множество и т.д.)\n",
        "\n",
        "print(list(map(int, ['1', '2', '3'])))\n",
        "print(list(map(str, [1, 2, 3])))"
      ],
      "metadata": {
        "colab": {
          "base_uri": "https://localhost:8080/"
        },
        "id": "tWqVl0uppMhh",
        "outputId": "6f7389ca-1dce-4432-cad9-9c4a2060e418"
      },
      "execution_count": null,
      "outputs": [
        {
          "output_type": "stream",
          "name": "stdout",
          "text": [
            "[1, 2, 3]\n",
            "['1', '2', '3']\n"
          ]
        }
      ]
    },
    {
      "cell_type": "code",
      "source": [
        "# аналог map\n",
        "\n",
        "lst = ['1', '2', '3']\n",
        "\n",
        "for i in range(len(lst)):\n",
        "    lst[i] = int(lst[i])\n",
        "\n",
        "lst"
      ],
      "metadata": {
        "colab": {
          "base_uri": "https://localhost:8080/"
        },
        "id": "o4FTXKN1piw0",
        "outputId": "c039e194-78f5-43b3-f3da-db59f1d23b4c"
      },
      "execution_count": null,
      "outputs": [
        {
          "output_type": "execute_result",
          "data": {
            "text/plain": [
              "[1, 2, 3]"
            ]
          },
          "metadata": {},
          "execution_count": 27
        }
      ]
    },
    {
      "cell_type": "code",
      "source": [
        "# еще один пример использования map\n",
        "def my_funс(x):\n",
        "    return x * 2\n",
        "\n",
        "ls = [1, 2, 3, 4, 5, 6, 7, 8, 9]\n",
        "list(map(my_funс, ls))"
      ],
      "metadata": {
        "colab": {
          "base_uri": "https://localhost:8080/"
        },
        "id": "nRjwJe6mvwUx",
        "outputId": "7f951c2c-d6ef-411c-8f2f-eee58dfbf27a"
      },
      "execution_count": null,
      "outputs": [
        {
          "output_type": "execute_result",
          "data": {
            "text/plain": [
              "[2, 4, 6, 8, 10, 12, 14, 16, 18]"
            ]
          },
          "metadata": {},
          "execution_count": 12
        }
      ]
    },
    {
      "cell_type": "code",
      "source": [
        "list(map(lambda x: x * 2, ls))"
      ],
      "metadata": {
        "colab": {
          "base_uri": "https://localhost:8080/"
        },
        "id": "x2ihD0scwQHD",
        "outputId": "f67ed9d4-c313-4b92-dafd-fd74c930d252"
      },
      "execution_count": null,
      "outputs": [
        {
          "output_type": "execute_result",
          "data": {
            "text/plain": [
              "[2, 4, 6, 8, 10, 12, 14, 16, 18]"
            ]
          },
          "metadata": {},
          "execution_count": 13
        }
      ]
    },
    {
      "cell_type": "markdown",
      "source": [
        "Лямбда-функция имеет следующий синтаксис:\n",
        "\n",
        "`Lambda аргументы: выражение`"
      ],
      "metadata": {
        "id": "jZRMlFRawVrT"
      }
    },
    {
      "cell_type": "markdown",
      "source": [
        "# Кто придумал этот сдвиг?\n",
        "\n",
        "На вход поступает массив чисел, размер которого задаёт одним числом. Сдвиньте значения массива влево на два элемента циклически, результат выведите на экран. Обратите внимание, что задача будет засчитана только в том случае, если в коде решения будет меняться значение массива. Код решений этой задачи будет дополнительно проверен.\n",
        "\n",
        "**Входные данные:**\n",
        "\n",
        "В первой строке вводится число N – количество элементов массива, во второй строке через пробел вводятся числа массива.\n",
        "\n",
        "**Выходные данные:**\n",
        "\n",
        "Числа массива через пробел. Обратите внимание, после последнего числа и перед первым числом не должно быть пробела.\n",
        "\n",
        "**Формат ввода**\n",
        "\n",
        "5 \\\\\n",
        "3 5 4 6 7\n",
        "\n",
        "**Формат вывода**\n",
        "\n",
        "4 6 7 3 5\n"
      ],
      "metadata": {
        "id": "HHK_z2HUjDm2"
      }
    },
    {
      "cell_type": "markdown",
      "source": [
        "## Разбор 1-го варианта решения"
      ],
      "metadata": {
        "id": "_uSlssQv19te"
      }
    },
    {
      "cell_type": "code",
      "source": [
        "N=int(input())\n",
        "M=input()\n",
        "arr = M.split(' ')\n",
        "nArr = arr[2:]\n",
        "nArr += arr[:2]\n",
        "print(*nArr, sep=' ')"
      ],
      "metadata": {
        "id": "3J2sl2rrju-N"
      },
      "execution_count": null,
      "outputs": []
    },
    {
      "cell_type": "markdown",
      "source": [
        "Хороший, код использующий срезы. Главная беда - в паре мест у кода отсутствует стиль.\n",
        "\n",
        "**Что нам выдает pep8?**\n",
        "\n",
        "- c:/Users/Аделя/Desktop/ЦК/goose.py:1:2: E225 missing whitespace around operator\n",
        "- c:/Users/Аделя/Desktop/ЦК/goose.py:2:2: E225 missing whitespace around operator\n",
        "- c:/Users/Аделя/Desktop/ЦК/goose.py:6:1: W391 blank line at end of file"
      ],
      "metadata": {
        "id": "XgkpS9Y5juTO"
      }
    },
    {
      "cell_type": "code",
      "source": [
        "# как выглядит поправленный кодстайл\n",
        "\n",
        "N = int(input())\n",
        "M = input()\n",
        "arr = M.split()\n",
        "nArr = arr[2:]\n",
        "nArr += arr[:2]\n",
        "print(*nArr, sep=' ')"
      ],
      "metadata": {
        "id": "aJ8Pt7Ixw4I_"
      },
      "execution_count": null,
      "outputs": []
    },
    {
      "cell_type": "code",
      "source": [
        "# давайте разберем по строкам:\n",
        "\n",
        "N = int(input()) # почему тут такая конструкция?\n",
        "\n",
        "M = input() # как тут можно поправить и надо ли? Что будет лежать в M?"
      ],
      "metadata": {
        "id": "gnZSrep0xJ0L"
      },
      "execution_count": null,
      "outputs": []
    },
    {
      "cell_type": "code",
      "source": [
        "N = int(input())\n",
        "M = input()\n",
        "\n",
        "print(N, type(N))\n",
        "print(M, type(M))"
      ],
      "metadata": {
        "colab": {
          "base_uri": "https://localhost:8080/"
        },
        "id": "MBIQTHQsxVGR",
        "outputId": "e32fee10-1ff3-4726-89d1-809055507190"
      },
      "execution_count": null,
      "outputs": [
        {
          "output_type": "stream",
          "name": "stdout",
          "text": [
            "4\n",
            "1 2 3 4\n",
            "4 <class 'int'>\n",
            "1 2 3 4 <class 'str'>\n"
          ]
        }
      ]
    },
    {
      "cell_type": "code",
      "source": [
        "arr = M.split() # что делает split()? что будет лежать в arr?\n",
        "\n",
        "print(arr)"
      ],
      "metadata": {
        "colab": {
          "base_uri": "https://localhost:8080/"
        },
        "id": "RnJqCoPXxeUn",
        "outputId": "544ced1d-298f-45c6-ca0c-3a761d67764d"
      },
      "execution_count": null,
      "outputs": [
        {
          "output_type": "stream",
          "name": "stdout",
          "text": [
            "['1', '2', '3', '4']\n"
          ]
        }
      ]
    },
    {
      "cell_type": "markdown",
      "source": [
        "## Про срезы"
      ],
      "metadata": {
        "id": "ZT4eznoR2DbV"
      }
    },
    {
      "cell_type": "markdown",
      "source": [
        "**Теперь еще раз про срезы**\n",
        "\n",
        "**Срез (slice)** — извлечение из данной строки одного символа или некоторого фрагмента (подстроки).\n",
        "\n",
        "Синтаксис среза:\n",
        "`name_of_varieble[start : stop-1 : step]`\n",
        "\n",
        "- `start` - необязательный параметр, по умолчанию равен 0.\n",
        "- `step` - необязательный параметр, по умолчанию равен 1.\n",
        "\n",
        "**Есть три формы срезов:**\n",
        "1. Когда мы берем **один** любой элемент из итеративного объекта (список, строка и т.д):\n",
        "`s[0], s[4] и т.д.`\n",
        "2. Срез по двум параметрам (`start` и `stop`):\n",
        "`s[0:5], s[4:6] и т.д.`\n",
        "3. Срез по всем трём параметрам."
      ],
      "metadata": {
        "id": "QvaMtOYrxxk1"
      }
    },
    {
      "cell_type": "code",
      "source": [
        "print(arr[0])\n",
        "\n",
        "print(arr[:])\n",
        "\n",
        "print(arr[:2])\n",
        "\n",
        "print(arr[1:2])\n",
        "\n",
        "print(arr[1:4])\n",
        "\n",
        "print(arr[1:4:2])\n",
        "\n",
        "print(arr[:2:-1])\n",
        "\n",
        "print(arr[::-1])"
      ],
      "metadata": {
        "colab": {
          "base_uri": "https://localhost:8080/"
        },
        "id": "jjojoMrcxk7y",
        "outputId": "bb46f287-fe00-4eb3-d979-b175f10947e9"
      },
      "execution_count": null,
      "outputs": [
        {
          "output_type": "stream",
          "name": "stdout",
          "text": [
            "1\n",
            "['1', '2', '3', '4']\n",
            "['1', '2']\n",
            "['2']\n",
            "['2', '3', '4']\n",
            "['2', '4']\n",
            "['4']\n",
            "['4', '3', '2', '1']\n"
          ]
        }
      ]
    },
    {
      "cell_type": "code",
      "source": [
        "#  Сдвиньте значения массива влево на два элемента циклически\n",
        "print(arr)\n",
        "arr[2:]"
      ],
      "metadata": {
        "colab": {
          "base_uri": "https://localhost:8080/"
        },
        "id": "hnGqHqyczVVn",
        "outputId": "63018eb8-991e-40d5-c8fd-f13d10271770"
      },
      "execution_count": null,
      "outputs": [
        {
          "output_type": "stream",
          "name": "stdout",
          "text": [
            "['1', '2', '3', '4']\n"
          ]
        },
        {
          "output_type": "execute_result",
          "data": {
            "text/plain": [
              "['3', '4']"
            ]
          },
          "metadata": {},
          "execution_count": 24
        }
      ]
    },
    {
      "cell_type": "code",
      "source": [
        "arr[:2]"
      ],
      "metadata": {
        "colab": {
          "base_uri": "https://localhost:8080/"
        },
        "id": "xt7SHOuNziNh",
        "outputId": "d96c3e0f-3f01-4eae-ee6f-31e0d5ef720b"
      },
      "execution_count": null,
      "outputs": [
        {
          "output_type": "execute_result",
          "data": {
            "text/plain": [
              "['1', '2']"
            ]
          },
          "metadata": {},
          "execution_count": 25
        }
      ]
    },
    {
      "cell_type": "code",
      "source": [
        "arr[2:] + arr[:2]"
      ],
      "metadata": {
        "colab": {
          "base_uri": "https://localhost:8080/"
        },
        "id": "O-2Awo-BzjrO",
        "outputId": "df766e38-4ae0-4a27-b234-17dbbdb18341"
      },
      "execution_count": null,
      "outputs": [
        {
          "output_type": "execute_result",
          "data": {
            "text/plain": [
              "['3', '4', '1', '2']"
            ]
          },
          "metadata": {},
          "execution_count": 26
        }
      ]
    },
    {
      "cell_type": "code",
      "source": [
        "# еще раз смотрим весь код\n",
        "\n",
        "N = int(input()) # читаем количество элементов списка и преобразовываем в int\n",
        "M = input() # считываем сами элементы массива в строку\n",
        "\n",
        "arr = M.split() # разбиваем строку на отдельные элементы по пробелу\n",
        "nArr = arr[2:] # берем все элементы после 2 и сохраняем в новый массив в начало\n",
        "nArr += arr[:2] # берем элементы исходного массива до 2 и сохраняем в конец\n",
        "\n",
        "print(*nArr, sep=' ') # выводи"
      ],
      "metadata": {
        "id": "jKWb2KZNzsyb"
      },
      "execution_count": null,
      "outputs": []
    },
    {
      "cell_type": "code",
      "source": [
        "nArr = arr[2:] + arr[:2]\n",
        "print(*nArr)"
      ],
      "metadata": {
        "colab": {
          "base_uri": "https://localhost:8080/"
        },
        "id": "Eg5LCNW70PZ2",
        "outputId": "b632e2b6-7a3e-465b-c894-0747e64c6a99"
      },
      "execution_count": null,
      "outputs": [
        {
          "output_type": "stream",
          "name": "stdout",
          "text": [
            "3 4 1 2\n"
          ]
        }
      ]
    },
    {
      "cell_type": "markdown",
      "source": [
        "## Разбор 2-го варианта решения"
      ],
      "metadata": {
        "id": "rpYVoNrB2GfS"
      }
    },
    {
      "cell_type": "code",
      "source": [
        "# возьмем другое решение участника\n",
        "\n",
        "num = int(input())\n",
        "\n",
        "my_list = [int(i) for i in input().split()] # как называется данная конструкция?\n",
        "\n",
        "new_list = [i for i in my_list]\n",
        "\n",
        "for i in range(num):\n",
        "    new_list[i] = my_list[i - 3]\n",
        "\n",
        "print(*new_list)"
      ],
      "metadata": {
        "id": "Ignxkvbckozk"
      },
      "execution_count": null,
      "outputs": []
    },
    {
      "cell_type": "markdown",
      "source": [
        "Ошибочный код.\n",
        "\n",
        "\n",
        "1.   Что будет, если массив на входе состоит из одного элемента?\n",
        "2.   Что будет, когда i станет больше i-3?\n",
        "\n"
      ],
      "metadata": {
        "id": "1-H7Up3Aks9D"
      }
    },
    {
      "cell_type": "markdown",
      "source": [
        "## Раз тут есть генераторы списков, давайте подробнее про них поговорим."
      ],
      "metadata": {
        "id": "ctAeNEca0mtU"
      }
    },
    {
      "cell_type": "markdown",
      "source": [
        "В языке программирования Python существует специальная синтаксическая конструкция, которая позволяет по определенным правилам создавать заполненные списки. Такие конструкции называются **генераторами списков**. Их удобство заключается в более короткой записи программного кода, чем если бы создавался список обычным способом.\n",
        "\n",
        "Основной синтаксис генератора списков выглядит следующим образом:\n",
        "\n",
        "\n",
        "`[expression for item in iterable if condition]`\n",
        "\n",
        "- `expression` — выражение, которое будет вычислено для каждого элемента списка\n",
        "- `item` — переменная, которая будет использоваться для итерации по элементам iterable\n",
        "- `iterable` — итерируемый объект (например, список, кортеж, множество, словарь, строка и т.д.)\n",
        "- `condition` — необязательное условие, когда выполнение выражения будет происходить только если условие истинно"
      ],
      "metadata": {
        "id": "sOLMVLEm0sXi"
      }
    },
    {
      "cell_type": "code",
      "source": [
        "# стандартный код\n",
        "\n",
        "a = []\n",
        "for i in range(1, 15):\n",
        "    a.append(i)\n",
        "\n",
        "a"
      ],
      "metadata": {
        "colab": {
          "base_uri": "https://localhost:8080/"
        },
        "id": "4shYEzwp1O-c",
        "outputId": "b6728544-1a8c-4d19-acec-713d9dd4870e"
      },
      "execution_count": null,
      "outputs": [
        {
          "output_type": "execute_result",
          "data": {
            "text/plain": [
              "[1, 2, 3, 4, 5, 6, 7, 8, 9, 10, 11, 12, 13, 14]"
            ]
          },
          "metadata": {},
          "execution_count": 28
        }
      ]
    },
    {
      "cell_type": "code",
      "source": [
        "# тоже самое, но с использованием генератора\n",
        "a = [i for i in range(1,15)]\n",
        "a"
      ],
      "metadata": {
        "colab": {
          "base_uri": "https://localhost:8080/"
        },
        "id": "NQkFZllg1SwP",
        "outputId": "612367ac-75bd-48b0-9fbb-ec7d446e28b4"
      },
      "execution_count": null,
      "outputs": [
        {
          "output_type": "execute_result",
          "data": {
            "text/plain": [
              "[1, 2, 3, 4, 5, 6, 7, 8, 9, 10, 11, 12, 13, 14]"
            ]
          },
          "metadata": {},
          "execution_count": 29
        }
      ]
    },
    {
      "cell_type": "code",
      "source": [
        "# другой пример\n",
        "a = [2,-2,4,-4,7,5]\n",
        "\n",
        "a = [i**2 for i in a]\n",
        "\n",
        "a"
      ],
      "metadata": {
        "colab": {
          "base_uri": "https://localhost:8080/"
        },
        "id": "sgLQ8pVq1sgy",
        "outputId": "669e19eb-6512-4215-b3a0-f8af8a946a4c"
      },
      "execution_count": null,
      "outputs": [
        {
          "output_type": "execute_result",
          "data": {
            "text/plain": [
              "[4, 4, 16, 16, 49, 25]"
            ]
          },
          "metadata": {},
          "execution_count": 30
        }
      ]
    },
    {
      "cell_type": "code",
      "source": [
        "# Допустим, мы хотим создать список квадратов четных чисел\n",
        "# из исходного списка\n",
        "\n",
        "numbers = [1, 2, 3, 4, 5]\n",
        "\n",
        "even_squares = [number**2 for number in numbers if number % 2 == 0]\n",
        "print(even_squares)"
      ],
      "metadata": {
        "colab": {
          "base_uri": "https://localhost:8080/"
        },
        "id": "-Ta-iL_d2Rwl",
        "outputId": "c2d5714e-f91a-4db6-ce41-6d2cb18a6d77"
      },
      "execution_count": null,
      "outputs": [
        {
          "output_type": "stream",
          "name": "stdout",
          "text": [
            "[4, 16]\n"
          ]
        }
      ]
    },
    {
      "cell_type": "markdown",
      "source": [
        "## Разбор 3-го варианта решения"
      ],
      "metadata": {
        "id": "6-Fcgpnd2b7m"
      }
    },
    {
      "cell_type": "code",
      "source": [
        "n = int(input())\n",
        "arr = list(map(int, input().split()))\n",
        "if len(arr) != n:\n",
        "    exit(1)\n",
        "\n",
        "arr = arr[2:] + arr[:2]\n",
        "print(\" \".join(map(str, arr)))"
      ],
      "metadata": {
        "id": "VmxA7suclQ3t"
      },
      "execution_count": null,
      "outputs": []
    },
    {
      "cell_type": "code",
      "source": [
        "n = int(input())\n",
        "arr = list(map(int, input().split()))\n",
        "\n",
        "arr = arr[2:] + arr[:2]\n",
        "print(*arr)"
      ],
      "metadata": {
        "id": "JNJSJTHO22Qk"
      },
      "execution_count": null,
      "outputs": []
    },
    {
      "cell_type": "markdown",
      "source": [
        "Зачем сначала переводить в int, а затем в str?"
      ],
      "metadata": {
        "id": "L2EbIC-AlQAG"
      }
    },
    {
      "cell_type": "markdown",
      "source": [
        "## Разбор 4-го варианта решения"
      ],
      "metadata": {
        "id": "zquRrQqa3BVt"
      }
    },
    {
      "cell_type": "code",
      "source": [
        "N = int(input())\n",
        "array = [int(input()) for i in range (N)]\n",
        "for i in range(2):\n",
        "        first_element = array[0]\n",
        "        for j in range(N - 1):\n",
        "            array[j] = array[j + 1]\n",
        "        array[N - 1] = first_element\n",
        "for k in range(N):\n",
        "    print(array[k], end = ' ')"
      ],
      "metadata": {
        "id": "fUYmsGWwlizO"
      },
      "execution_count": null,
      "outputs": []
    },
    {
      "cell_type": "markdown",
      "source": [
        "Код не заработает, ведь на вход может поступать не одно число, а целиком строка.\n",
        "\n",
        "Можно написать, например, такой код, чтобы получить список:\n",
        "\n",
        "`lst = input() \\\n",
        "lst = lst.split()`\n",
        "\n",
        "Сначала прочитали, потом разделили по пробелам.\n"
      ],
      "metadata": {
        "id": "u01hnBa8ljbd"
      }
    },
    {
      "cell_type": "markdown",
      "source": [
        "Ещё ошибка:\n",
        "\n",
        "`for i in range(2):`\n",
        "\n",
        "Почему процедуру сдвига надо сделать на один шаг дважды? Это в том числе ошибка в логике кода. Можно просто сдвигать"
      ],
      "metadata": {
        "id": "XtR5j4HsmJM_"
      }
    },
    {
      "cell_type": "code",
      "source": [
        "n = int(input())\n",
        "arr = [int(x) for x in input().split()]\n",
        "for  i in range(3):\n",
        "    arr = [arr[-1]] + arr[0:n - 1]\n",
        "print(\" \".join(map(str, arr)))"
      ],
      "metadata": {
        "id": "bHwwE_EeoaAZ"
      },
      "execution_count": null,
      "outputs": []
    },
    {
      "cell_type": "markdown",
      "source": [
        "Если хотите делатьп росто несколько операций, а номер операции не важен, то можно писать так:\n",
        "\n",
        "`for _ in range(3):`\n",
        "\n",
        "Но тут есть ошибка. `range(3)` исполнится 3 раза, ведь отсчёт начинается с нуля."
      ],
      "metadata": {
        "id": "NMunO38Soas2"
      }
    },
    {
      "cell_type": "markdown",
      "source": [
        "# Тик\n",
        "\n",
        "Сейчас H часов и M минут. Через T минут всё закончится.\n",
        "Сколько будет времени на электронных часах, когда всё закончится?\n",
        "\n",
        "**Ввод**\n",
        "\n",
        "- В первой строке записано натуральное число $0 <= H < 24$.\n",
        "- Во второй строке записано натуральное число $0 <= M < 60$.\n",
        "- В третьей строке записано натуральное число $0 <= T < 1000000$.\n",
        "\n",
        "**Вывод**\n",
        "\n",
        "Одна строка, представляющая циферблат электронных часов.\n",
        "\n",
        "Формат ввода \\\\\n",
        "8 \\\\\n",
        "30 \\\\\n",
        "62\n",
        "\n",
        "Формат вывода \\\\\n",
        "09:32"
      ],
      "metadata": {
        "id": "RhSrqmQXrCEv"
      }
    },
    {
      "cell_type": "markdown",
      "source": [
        "Самое сложное в задаче - представить как именно будет проходить учёт часов и минут при прибавлении минут. Не перепутайте порядок!"
      ],
      "metadata": {
        "id": "eDz57NjbrFhP"
      }
    },
    {
      "cell_type": "code",
      "source": [
        "H = int(input())\n",
        "M = int(input())\n",
        "T = int(input())\n",
        "\n",
        "total_minutes = H * 60 + M # переводим все в минуты\n",
        "\n",
        "total_minutes += T # прибавляем заданное число минут\n",
        "\n",
        "# переводим все обратно в часы и минуты\n",
        "new_H = (total_minutes // 60) % 24\n",
        "new_M = total_minutes % 60\n",
        "\n",
        "# выводим все в нужном формате\n",
        "print(f\"{new_H:02}:{new_M:02}\")"
      ],
      "metadata": {
        "id": "jtdzef9NrtOY"
      },
      "execution_count": null,
      "outputs": []
    },
    {
      "cell_type": "markdown",
      "source": [
        "## Немного про f-string"
      ],
      "metadata": {
        "id": "gEDcnmXq3hi5"
      }
    },
    {
      "cell_type": "markdown",
      "source": [
        "Начиная с версии 3.6 в Python появился новый тип строк — f-строки, которые буквально означают «formatted string». Эти строки улучшают читаемость кода, а также работают быстрее чем другие способы форматирования. F-строки задаются с помощью литерала «f» перед кавычками.\n",
        "\n",
        "f-строки - это пятый способ (sic!) форматирования строк в Python, который очень похож на использование метода format().\n",
        "\n",
        "Побробнее с примерами можно посмотреть тут: https://shultais.education/blog/python-f-strings"
      ],
      "metadata": {
        "id": "xQas6q2J3kIB"
      }
    },
    {
      "cell_type": "markdown",
      "source": [
        "# Каша-малаша\n",
        "\n",
        "Мы в экономическом отделе получили такое письмо. Кроме нас никто не поможет. Да и не похоже, что на этой фабрике работает кто-то умнее нас в принципе.\n",
        "\n",
        "\"Мы нашли фабрику по обогащению урана нездорового человека. Надо срочно что-то делать, иначе будет полный \"привет\".\n",
        "На фабрике смешали между собой уран-235 и уран-238. Теперь не могут разобраться, что к чему. В конце-концов всё денег стоит.\n",
        "Известно, что в этой куче всего K килограмм урана. Каждое кило стоит M рублей.\n",
        "При этом известно, что уран-235 стоит N1 рублей за кило, а уран-238 стоит N2 рублей за кило.\n",
        "Срочно скажите сколько и какого урана в это каше.\n",
        "А то вдруг нам уже хана?\"\n",
        "\n",
        "**Формат ввода**\n",
        "\n",
        "- В первой строке записано натуральное число $K$\n",
        "- Во второй строке — натуральное число $M$\n",
        "- В третьей строке — натуральное число $N1$\n",
        "- В четвёртой строке — натуральное число $N2$\n",
        "\n",
        "**Формат вывода**\n",
        "\n",
        "Два натуральных числа, записанных через пробел — вес урана-235 и урана-238.\n",
        "\n",
        "P.s. уран 238 дороже."
      ],
      "metadata": {
        "id": "gHZn_gUwtBUv"
      }
    },
    {
      "cell_type": "markdown",
      "source": [
        "На самом деле эта задача очень простая. Запишите систему уравнений и решите её. И всё.\n",
        "\n",
        "1. $Стоимость(U_{235})*КГ(U_{235}) + Стоимость(U_{238})*КГ(U_{238}) = M*K$\n",
        "\n",
        "2. $КГ(U_{235}) + КГ(U_{238}) = K$"
      ],
      "metadata": {
        "id": "kV6w9BYVtgEv"
      }
    },
    {
      "cell_type": "code",
      "source": [
        "K = int(input())\n",
        "M = int(input())\n",
        "N1 = int(input())\n",
        "N2 = int(input())\n",
        "\n",
        "M1 = int((K*M - N1*K)//(N2 - N1))\n",
        "M2 = int(K - M1)\n",
        "\n",
        "U235 = M1\n",
        "U238 = M2\n",
        "\n",
        "if N2 > N1:\n",
        "    U235 = M2\n",
        "    U238 = M1\n",
        "\n",
        "print(int(U235), int(U238))"
      ],
      "metadata": {
        "id": "dreqDZ0yso3e"
      },
      "execution_count": null,
      "outputs": []
    },
    {
      "cell_type": "markdown",
      "source": [
        "# F. Ешь быстрее"
      ],
      "metadata": {
        "id": "_hyZQXp355FA"
      }
    },
    {
      "cell_type": "markdown",
      "source": [
        "На предприятии 2 сотрудника съедают 2 порции обеда за 10 минут. Сколько обедов за $T$ минут съедят $N$ сотрудников?\n",
        "\n",
        "В первой строке вводится число $T$, во второй $N$."
      ],
      "metadata": {
        "id": "tipL5vGu56Os"
      }
    },
    {
      "cell_type": "code",
      "source": [
        "T = int(input())\n",
        "N = int(input())\n",
        "\n",
        "B = int(T * N / 10)\n",
        "\n",
        "print(B)"
      ],
      "metadata": {
        "id": "U5_B0slJ55oq"
      },
      "execution_count": null,
      "outputs": []
    }
  ]
}